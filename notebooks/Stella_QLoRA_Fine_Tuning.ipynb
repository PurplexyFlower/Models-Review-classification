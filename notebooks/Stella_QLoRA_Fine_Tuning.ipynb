{
 "cells": [
  {
   "cell_type": "markdown",
   "id": "b97ac2ab",
   "metadata": {},
   "source": [
    "# 🚀 Stella Model QLoRA Fine-tuning for Fake Review Classification\n",
    "\n",
    "This notebook demonstrates how to fine-tune the `NovaSearch/stella_en_400M_v5` model using QLoRA (Quantized Low-Rank Adaptation) for fake review classification. The implementation uses 4-bit quantization to enable efficient training on consumer GPUs.\n",
    "\n",
    "## Key Features:\n",
    "- **4-bit Quantization**: Reduces memory usage by ~75%\n",
    "- **LoRA Adaptation**: Efficient fine-tuning with minimal parameters\n",
    "- **Proper Target Modules**: Uses correct `qkv_proj` and `o_proj` layers\n",
    "- **GPU Optimized**: Designed for 6-8GB VRAM GPUs\n",
    "\n",
    "---"
   ]
  },
  {
   "cell_type": "code",
   "execution_count": 10,
   "id": "33957c72",
   "metadata": {},
   "outputs": [
    {
     "name": "stdout",
     "output_type": "stream",
     "text": [
      "Requirement already satisfied: transformers in c:\\users\\zrhrissi\\documents\\phd models\\.venv\\lib\\site-packages (4.55.2)\n",
      "Requirement already satisfied: accelerate in c:\\users\\zrhrissi\\documents\\phd models\\.venv\\lib\\site-packages (1.10.0)\n",
      "Requirement already satisfied: peft in c:\\users\\zrhrissi\\documents\\phd models\\.venv\\lib\\site-packages (0.17.0)\n",
      "Requirement already satisfied: bitsandbytes in c:\\users\\zrhrissi\\documents\\phd models\\.venv\\lib\\site-packages (0.47.0)\n",
      "Requirement already satisfied: filelock in c:\\users\\zrhrissi\\documents\\phd models\\.venv\\lib\\site-packages (from transformers) (3.18.0)\n",
      "Requirement already satisfied: huggingface-hub<1.0,>=0.34.0 in c:\\users\\zrhrissi\\documents\\phd models\\.venv\\lib\\site-packages (from transformers) (0.34.3)\n",
      "Requirement already satisfied: numpy>=1.17 in c:\\users\\zrhrissi\\documents\\phd models\\.venv\\lib\\site-packages (from transformers) (2.3.2)\n",
      "Requirement already satisfied: packaging>=20.0 in c:\\users\\zrhrissi\\documents\\phd models\\.venv\\lib\\site-packages (from transformers) (25.0)\n",
      "Requirement already satisfied: pyyaml>=5.1 in c:\\users\\zrhrissi\\documents\\phd models\\.venv\\lib\\site-packages (from transformers) (6.0.2)\n",
      "Requirement already satisfied: regex!=2019.12.17 in c:\\users\\zrhrissi\\documents\\phd models\\.venv\\lib\\site-packages (from transformers) (2025.7.34)\n",
      "Requirement already satisfied: requests in c:\\users\\zrhrissi\\documents\\phd models\\.venv\\lib\\site-packages (from transformers) (2.32.4)\n",
      "Requirement already satisfied: tokenizers<0.22,>=0.21 in c:\\users\\zrhrissi\\documents\\phd models\\.venv\\lib\\site-packages (from transformers) (0.21.4)\n",
      "Requirement already satisfied: safetensors>=0.4.3 in c:\\users\\zrhrissi\\documents\\phd models\\.venv\\lib\\site-packages (from transformers) (0.5.3)\n",
      "Requirement already satisfied: tqdm>=4.27 in c:\\users\\zrhrissi\\documents\\phd models\\.venv\\lib\\site-packages (from transformers) (4.67.1)\n",
      "Requirement already satisfied: fsspec>=2023.5.0 in c:\\users\\zrhrissi\\documents\\phd models\\.venv\\lib\\site-packages (from huggingface-hub<1.0,>=0.34.0->transformers) (2025.3.0)\n",
      "Requirement already satisfied: typing-extensions>=3.7.4.3 in c:\\users\\zrhrissi\\documents\\phd models\\.venv\\lib\\site-packages (from huggingface-hub<1.0,>=0.34.0->transformers) (4.14.1)\n",
      "Requirement already satisfied: psutil in c:\\users\\zrhrissi\\documents\\phd models\\.venv\\lib\\site-packages (from accelerate) (7.0.0)\n",
      "Requirement already satisfied: torch>=2.0.0 in c:\\users\\zrhrissi\\documents\\phd models\\.venv\\lib\\site-packages (from accelerate) (2.7.1+cu118)\n",
      "Requirement already satisfied: sympy>=1.13.3 in c:\\users\\zrhrissi\\documents\\phd models\\.venv\\lib\\site-packages (from torch>=2.0.0->accelerate) (1.14.0)\n",
      "Requirement already satisfied: networkx in c:\\users\\zrhrissi\\documents\\phd models\\.venv\\lib\\site-packages (from torch>=2.0.0->accelerate) (3.5)\n",
      "Requirement already satisfied: jinja2 in c:\\users\\zrhrissi\\documents\\phd models\\.venv\\lib\\site-packages (from torch>=2.0.0->accelerate) (3.1.6)\n",
      "Requirement already satisfied: setuptools in c:\\users\\zrhrissi\\documents\\phd models\\.venv\\lib\\site-packages (from torch>=2.0.0->accelerate) (80.9.0)\n",
      "Requirement already satisfied: mpmath<1.4,>=1.1.0 in c:\\users\\zrhrissi\\documents\\phd models\\.venv\\lib\\site-packages (from sympy>=1.13.3->torch>=2.0.0->accelerate) (1.3.0)\n",
      "Requirement already satisfied: colorama in c:\\users\\zrhrissi\\documents\\phd models\\.venv\\lib\\site-packages (from tqdm>=4.27->transformers) (0.4.6)\n",
      "Requirement already satisfied: MarkupSafe>=2.0 in c:\\users\\zrhrissi\\documents\\phd models\\.venv\\lib\\site-packages (from jinja2->torch>=2.0.0->accelerate) (3.0.2)\n",
      "Requirement already satisfied: charset_normalizer<4,>=2 in c:\\users\\zrhrissi\\documents\\phd models\\.venv\\lib\\site-packages (from requests->transformers) (3.4.2)\n",
      "Requirement already satisfied: idna<4,>=2.5 in c:\\users\\zrhrissi\\documents\\phd models\\.venv\\lib\\site-packages (from requests->transformers) (3.10)\n",
      "Requirement already satisfied: urllib3<3,>=1.21.1 in c:\\users\\zrhrissi\\documents\\phd models\\.venv\\lib\\site-packages (from requests->transformers) (2.5.0)\n",
      "Requirement already satisfied: certifi>=2017.4.17 in c:\\users\\zrhrissi\\documents\\phd models\\.venv\\lib\\site-packages (from requests->transformers) (2025.8.3)\n"
     ]
    }
   ],
   "source": [
    "! pip install --upgrade transformers accelerate peft bitsandbytes"
   ]
  },
  {
   "cell_type": "markdown",
   "id": "3cac5cb9",
   "metadata": {},
   "source": [
    "## 1. Import Required Libraries\n",
    "\n",
    "Import all necessary libraries for data processing, model training, and evaluation."
   ]
  },
  {
   "cell_type": "code",
   "execution_count": 1,
   "id": "636ba13a",
   "metadata": {},
   "outputs": [
    {
     "name": "stderr",
     "output_type": "stream",
     "text": [
      "c:\\Users\\zrhrissi\\Documents\\Phd models\\.venv\\Lib\\site-packages\\tqdm\\auto.py:21: TqdmWarning: IProgress not found. Please update jupyter and ipywidgets. See https://ipywidgets.readthedocs.io/en/stable/user_install.html\n",
      "  from .autonotebook import tqdm as notebook_tqdm\n"
     ]
    },
    {
     "name": "stdout",
     "output_type": "stream",
     "text": [
      "✅ All libraries imported successfully!\n",
      "🔥 PyTorch version: 2.7.1+cu118\n",
      "🤗 Transformers available\n",
      "⚡ PEFT available\n"
     ]
    }
   ],
   "source": [
    "# ==============================================================================\n",
    "# IMPORT LIBRARIES\n",
    "# ==============================================================================\n",
    "import os\n",
    "import sys\n",
    "import torch\n",
    "import pandas as pd\n",
    "import numpy as np\n",
    "import seaborn as sns\n",
    "import matplotlib.pyplot as plt\n",
    "\n",
    "from sklearn.model_selection import train_test_split\n",
    "from sklearn.metrics import (\n",
    "    accuracy_score,\n",
    "    classification_report,\n",
    "    confusion_matrix,\n",
    "    precision_recall_fscore_support,\n",
    ")\n",
    "from datasets import Dataset\n",
    "from transformers import (\n",
    "    AutoConfig,\n",
    "    AutoTokenizer,\n",
    "    AutoModel,\n",
    "    Trainer,\n",
    "    TrainingArguments,\n",
    "    BitsAndBytesConfig,\n",
    ")\n",
    "from peft import get_peft_model, LoraConfig, TaskType, prepare_model_for_kbit_training\n",
    "from torch.nn import CrossEntropyLoss\n",
    "from transformers.modeling_outputs import SequenceClassifierOutput\n",
    "\n",
    "print(\"✅ All libraries imported successfully!\")\n",
    "print(f\"🔥 PyTorch version: {torch.__version__}\")\n",
    "print(f\"🤗 Transformers available\")\n",
    "print(f\"⚡ PEFT available\")"
   ]
  },
  {
   "cell_type": "markdown",
   "id": "2f8a1142",
   "metadata": {},
   "source": [
    "## 2. Configuration and Hyperparameters\n",
    "\n",
    "Define all configuration parameters including model settings, LoRA parameters, and training hyperparameters."
   ]
  },
  {
   "cell_type": "code",
   "execution_count": 3,
   "id": "ab3e2c6b",
   "metadata": {},
   "outputs": [
    {
     "name": "stdout",
     "output_type": "stream",
     "text": [
      "⚙️ Configuration Summary:\n",
      "   📋 Model: NovaSearch/stella_en_400M_v5\n",
      "   📁 Dataset: dataset/cleaned_dataset.csv\n",
      "   🎯 Target Modules: ['qkv_proj', 'o_proj']\n",
      "   🔧 LoRA r=16, alpha=32, dropout=0.05\n",
      "   📊 Batch Size: 2 (effective: 16)\n",
      "   📚 Learning Rate: 0.0002\n",
      "   🔄 Epochs: 3\n"
     ]
    }
   ],
   "source": [
    "# ==============================================================================\n",
    "# CONFIGURATION\n",
    "# ==============================================================================\n",
    "MODEL_NAME = \"NovaSearch/stella_en_400M_v5\"\n",
    "DATASET_PATH = \"dataset/cleaned_dataset.csv\"\n",
    "OUTPUT_DIR = \"./stella_qlora_finetuned_model\"\n",
    "\n",
    "# LoRA Configuration\n",
    "LORA_R = 16\n",
    "LORA_ALPHA = 32\n",
    "LORA_DROPOUT = 0.05\n",
    "\n",
    "### --- CRITICAL FIX BASED ON MODEL INSPECTION --- ###\n",
    "# The Stella model uses fused Query-Key-Value layers (\"qkv_proj\")\n",
    "# and an output projection layer (\"o_proj\"). These are the correct\n",
    "# module names for LoRA adaptation.\n",
    "LORA_TARGET_MODULES = [\"qkv_proj\", \"o_proj\"]\n",
    "\n",
    "# Training Configuration\n",
    "BATCH_SIZE = 2\n",
    "GRADIENT_ACCUMULATION_STEPS = 8\n",
    "LEARNING_RATE = 2e-4\n",
    "NUM_EPOCHS = 3\n",
    "MAX_SEQ_LENGTH = 512\n",
    "\n",
    "print(\"⚙️ Configuration Summary:\")\n",
    "print(f\"   📋 Model: {MODEL_NAME}\")\n",
    "print(f\"   📁 Dataset: {DATASET_PATH}\")\n",
    "print(f\"   🎯 Target Modules: {LORA_TARGET_MODULES}\")\n",
    "print(f\"   🔧 LoRA r={LORA_R}, alpha={LORA_ALPHA}, dropout={LORA_DROPOUT}\")\n",
    "print(f\"   📊 Batch Size: {BATCH_SIZE} (effective: {BATCH_SIZE * GRADIENT_ACCUMULATION_STEPS})\")\n",
    "print(f\"   📚 Learning Rate: {LEARNING_RATE}\")\n",
    "print(f\"   🔄 Epochs: {NUM_EPOCHS}\")"
   ]
  },
  {
   "cell_type": "markdown",
   "id": "d7e8810a",
   "metadata": {},
   "source": [
    "## 3. Environment Setup and GPU Configuration\n",
    "\n",
    "Check GPU availability and configure the environment for optimal performance."
   ]
  },
  {
   "cell_type": "code",
   "execution_count": 4,
   "id": "cd5db5d6",
   "metadata": {},
   "outputs": [
    {
     "name": "stdout",
     "output_type": "stream",
     "text": [
      "✅ GPU detected: NVIDIA GeForce RTX 4050 Laptop GPU\n",
      "💾 GPU Memory: 6.4 GB\n",
      "🔥 BFloat16 Support: Yes\n",
      "\n",
      "🚀 Environment ready! Using device: cuda\n"
     ]
    }
   ],
   "source": [
    "# ==============================================================================\n",
    "# ENVIRONMENT SETUP\n",
    "# ==============================================================================\n",
    "def setup_environment():\n",
    "    \"\"\"Setup and validate the training environment.\"\"\"\n",
    "    if not torch.cuda.is_available():\n",
    "        print(\"❌ No GPU detected. QLoRA requires a GPU for efficient training.\")\n",
    "        print(\"💡 Please ensure you have a CUDA-compatible GPU and PyTorch with CUDA support.\")\n",
    "        return None, None\n",
    "    \n",
    "    device = torch.device(\"cuda\")\n",
    "    has_bf16_support = torch.cuda.is_bf16_supported()\n",
    "    \n",
    "    print(f\"✅ GPU detected: {torch.cuda.get_device_name(0)}\")\n",
    "    print(f\"💾 GPU Memory: {torch.cuda.get_device_properties(0).total_memory / 1e9:.1f} GB\")\n",
    "    print(f\"🔥 BFloat16 Support: {'Yes' if has_bf16_support else 'No (will use Float16)'}\")\n",
    "    \n",
    "    # Clear GPU cache\n",
    "    torch.cuda.empty_cache()\n",
    "    \n",
    "    return device, has_bf16_support\n",
    "\n",
    "# Setup environment\n",
    "device, has_bf16_support = setup_environment()\n",
    "\n",
    "if device is None:\n",
    "    print(\"\\n⚠️ Cannot proceed without GPU. Please check your setup.\")\n",
    "else:\n",
    "    print(f\"\\n🚀 Environment ready! Using device: {device}\")"
   ]
  },
  {
   "cell_type": "markdown",
   "id": "34437641",
   "metadata": {},
   "source": [
    "## 4. Custom Model Definition\n",
    "\n",
    "Define a custom Stella model class for sequence classification with proper handling of quantization and attention mechanisms."
   ]
  },
  {
   "cell_type": "code",
   "execution_count": 5,
   "id": "bfb35564",
   "metadata": {},
   "outputs": [
    {
     "name": "stdout",
     "output_type": "stream",
     "text": [
      "✅ Custom StellaForSequenceClassification class defined successfully!\n"
     ]
    }
   ],
   "source": [
    "# ==============================================================================\n",
    "# CUSTOM MODEL DEFINITION\n",
    "# ==============================================================================\n",
    "class StellaForSequenceClassification(torch.nn.Module):\n",
    "    \"\"\"Custom Stella model wrapper for sequence classification.\"\"\"\n",
    "    \n",
    "    def __init__(self, model_name, num_labels, quantization_config):\n",
    "        super(StellaForSequenceClassification, self).__init__()\n",
    "        self.num_labels = num_labels\n",
    "        \n",
    "        # Configure the model to disable memory efficient attention\n",
    "        # This prevents xformers compatibility issues\n",
    "        config = AutoConfig.from_pretrained(model_name, trust_remote_code=True)\n",
    "        config.use_memory_efficient_attention = False\n",
    "        config.unpad_inputs = False\n",
    "        \n",
    "        # Load the base Stella model\n",
    "        self.stella = AutoModel.from_pretrained(\n",
    "            model_name,\n",
    "            config=config,\n",
    "            trust_remote_code=True,\n",
    "            quantization_config=quantization_config,\n",
    "            device_map=\"auto\"\n",
    "        )\n",
    "        \n",
    "        self.config = self.stella.config\n",
    "        \n",
    "        # Add classification head\n",
    "        self.dropout = torch.nn.Dropout(0.1)\n",
    "        self.classifier = torch.nn.Linear(self.config.hidden_size, num_labels)\n",
    "        \n",
    "        print(f\"✅ Stella model loaded with {num_labels} labels\")\n",
    "        print(f\"📐 Hidden size: {self.config.hidden_size}\")\n",
    "\n",
    "    def forward(self, input_ids=None, attention_mask=None, labels=None, **kwargs):\n",
    "        \"\"\"Forward pass with proper pooling and classification.\"\"\"\n",
    "        # Get embeddings from Stella\n",
    "        outputs = self.stella(input_ids=input_ids, attention_mask=attention_mask)\n",
    "        last_hidden_state = outputs.last_hidden_state\n",
    "        \n",
    "        # Apply attention-weighted pooling\n",
    "        masked_hidden_state = last_hidden_state * attention_mask.unsqueeze(-1)\n",
    "        pooled_output = masked_hidden_state.sum(dim=1) / attention_mask.sum(dim=1, keepdim=True)\n",
    "        \n",
    "        # Classification\n",
    "        logits = self.classifier(self.dropout(pooled_output))\n",
    "        \n",
    "        # Calculate loss if labels provided\n",
    "        loss = None\n",
    "        if labels is not None:\n",
    "            loss_fct = CrossEntropyLoss()\n",
    "            loss = loss_fct(logits.view(-1, self.num_labels), labels.view(-1))\n",
    "        \n",
    "        return SequenceClassifierOutput(loss=loss, logits=logits)\n",
    "\n",
    "print(\"✅ Custom StellaForSequenceClassification class defined successfully!\")"
   ]
  },
  {
   "cell_type": "markdown",
   "id": "33faec65",
   "metadata": {},
   "source": [
    "## 5. Data Loading and Preprocessing\n",
    "\n",
    "Load the dataset and create train/validation/test splits with proper preprocessing."
   ]
  },
  {
   "cell_type": "code",
   "execution_count": 6,
   "id": "8e45592e",
   "metadata": {},
   "outputs": [
    {
     "name": "stdout",
     "output_type": "stream",
     "text": [
      "\n",
      "📂 Loading dataset from 'dataset/cleaned_dataset.csv'...\n",
      "✅ Dataset loaded successfully! Shape: (40432, 4)\n",
      "🧹 Cleaned dataset shape: (40432, 2)\n",
      "📊 Label distribution:\n",
      "   Label 1: 20216 samples (50.0%)\n",
      "   Label 0: 20216 samples (50.0%)\n",
      "\n",
      "📈 Data splits created:\n",
      "   🚂 Training:   29,110 samples\n",
      "   🔍 Validation: 3,235 samples\n",
      "   🧪 Test:       8,087 samples\n",
      "\n",
      "🎯 Data loading completed successfully!\n",
      "Sample text: The quality of this lace is very nice. It is very comfortable and my son loves it.Great quality and ...\n",
      "Sample label: 1\n"
     ]
    }
   ],
   "source": [
    "# ==============================================================================\n",
    "# DATA LOADING AND PREPROCESSING\n",
    "# ==============================================================================\n",
    "def load_and_prepare_data(dataset_path):\n",
    "    \"\"\"Load dataset and create train/validation/test splits.\"\"\"\n",
    "    print(f\"\\n📂 Loading dataset from '{dataset_path}'...\")\n",
    "    \n",
    "    try:\n",
    "        df = pd.read_csv(dataset_path)\n",
    "        print(f\"✅ Dataset loaded successfully! Shape: {df.shape}\")\n",
    "    except FileNotFoundError:\n",
    "        print(f\"❌ Dataset not found! Please check the path: {dataset_path}\")\n",
    "        return None, None, None\n",
    "    \n",
    "    # Clean and prepare data\n",
    "    df_clean = df[['text', 'label']].copy().dropna()\n",
    "    print(f\"🧹 Cleaned dataset shape: {df_clean.shape}\")\n",
    "    \n",
    "    # Check label distribution\n",
    "    label_counts = df_clean['label'].value_counts()\n",
    "    print(f\"📊 Label distribution:\")\n",
    "    for label, count in label_counts.items():\n",
    "        print(f\"   Label {label}: {count} samples ({count/len(df_clean)*100:.1f}%)\")\n",
    "    \n",
    "    # Create stratified splits\n",
    "    train_val_df, test_df = train_test_split(\n",
    "        df_clean, test_size=0.2, random_state=42, stratify=df_clean['label']\n",
    "    )\n",
    "    train_df, val_df = train_test_split(\n",
    "        train_val_df, test_size=0.1, random_state=42, stratify=train_val_df['label']\n",
    "    )\n",
    "    \n",
    "    print(\"\\n📈 Data splits created:\")\n",
    "    print(f\"   🚂 Training:   {len(train_df):,} samples\")\n",
    "    print(f\"   🔍 Validation: {len(val_df):,} samples\")\n",
    "    print(f\"   🧪 Test:       {len(test_df):,} samples\")\n",
    "    \n",
    "    # Convert to HuggingFace datasets\n",
    "    train_dataset = Dataset.from_pandas(train_df)\n",
    "    val_dataset = Dataset.from_pandas(val_df)\n",
    "    test_dataset = Dataset.from_pandas(test_df)\n",
    "    \n",
    "    return train_dataset, val_dataset, test_dataset\n",
    "\n",
    "# Load the data\n",
    "train_dataset, val_dataset, test_dataset = load_and_prepare_data(DATASET_PATH)\n",
    "\n",
    "if train_dataset is not None:\n",
    "    print(\"\\n🎯 Data loading completed successfully!\")\n",
    "    print(f\"Sample text: {train_dataset[0]['text'][:100]}...\")\n",
    "    print(f\"Sample label: {train_dataset[0]['label']}\")\n",
    "else:\n",
    "    print(\"❌ Failed to load data. Please check your dataset path.\")"
   ]
  },
  {
   "cell_type": "markdown",
   "id": "5ac6d8b3",
   "metadata": {},
   "source": [
    "## 6. Model and Tokenizer Setup\n",
    "\n",
    "Load the Stella model with quantization and prepare the tokenizer."
   ]
  },
  {
   "cell_type": "code",
   "execution_count": 7,
   "id": "e2123424",
   "metadata": {},
   "outputs": [
    {
     "name": "stdout",
     "output_type": "stream",
     "text": [
      "\n",
      "⚙️ Configuring QLoRA for 4-bit quantization...\n",
      "🔧 Quantization config:\n",
      "   - 4-bit: True\n",
      "   - Quant type: nf4\n",
      "   - Compute dtype: torch.bfloat16\n",
      "   - Double quantization: True\n",
      "\n",
      "🚀 Loading base model 'NovaSearch/stella_en_400M_v5' with 4-bit quantization...\n"
     ]
    },
    {
     "name": "stderr",
     "output_type": "stream",
     "text": [
      "WARNING[XFORMERS]: xFormers can't load C++/CUDA extensions. xFormers was built for:\n",
      "    PyTorch 2.8.0+cu128 with CUDA 1208 (you have 2.7.1+cu118)\n",
      "    Python  3.9.13 (you have 3.13.3)\n",
      "  Please reinstall xformers (see https://github.com/facebookresearch/xformers#installing-xformers)\n",
      "  Memory-efficient attention, SwiGLU, sparse and more won't be available.\n",
      "  Set XFORMERS_MORE_DETAILS=1 for more details\n",
      "Some weights of the model checkpoint at NovaSearch/stella_en_400M_v5 were not used when initializing NewModel: ['pooler.dense.bias', 'pooler.dense.weight']\n",
      "- This IS expected if you are initializing NewModel from the checkpoint of a model trained on another task or with another architecture (e.g. initializing a BertForSequenceClassification model from a BertForPreTraining model).\n",
      "- This IS NOT expected if you are initializing NewModel from the checkpoint of a model that you expect to be exactly identical (initializing a BertForSequenceClassification model from a BertForSequenceClassification model).\n",
      "Some weights of the model checkpoint at NovaSearch/stella_en_400M_v5 were not used when initializing NewModel: ['pooler.dense.bias', 'pooler.dense.weight']\n",
      "- This IS expected if you are initializing NewModel from the checkpoint of a model trained on another task or with another architecture (e.g. initializing a BertForSequenceClassification model from a BertForPreTraining model).\n",
      "- This IS NOT expected if you are initializing NewModel from the checkpoint of a model that you expect to be exactly identical (initializing a BertForSequenceClassification model from a BertForSequenceClassification model).\n"
     ]
    },
    {
     "name": "stdout",
     "output_type": "stream",
     "text": [
      "✅ Stella model loaded with 2 labels\n",
      "📐 Hidden size: 1024\n",
      "\n",
      "📝 Loading tokenizer...\n",
      "✅ Tokenizer loaded successfully!\n",
      "📏 Vocab size: 30522\n",
      "🔤 Pad token: [PAD]\n",
      "✅ Tokenizer loaded successfully!\n",
      "📏 Vocab size: 30522\n",
      "🔤 Pad token: [PAD]\n"
     ]
    }
   ],
   "source": [
    "# ==============================================================================\n",
    "# MODEL AND TOKENIZER SETUP\n",
    "# ==============================================================================\n",
    "if device is not None and train_dataset is not None:\n",
    "    print(\"\\n⚙️ Configuring QLoRA for 4-bit quantization...\")\n",
    "    \n",
    "    # Setup quantization configuration\n",
    "    compute_dtype = torch.bfloat16 if has_bf16_support else torch.float16\n",
    "    quantization_config = BitsAndBytesConfig(\n",
    "        load_in_4bit=True,\n",
    "        bnb_4bit_quant_type=\"nf4\",\n",
    "        bnb_4bit_compute_dtype=compute_dtype,\n",
    "        bnb_4bit_use_double_quant=True,\n",
    "    )\n",
    "    \n",
    "    print(f\"🔧 Quantization config:\")\n",
    "    print(f\"   - 4-bit: True\")\n",
    "    print(f\"   - Quant type: nf4\")\n",
    "    print(f\"   - Compute dtype: {compute_dtype}\")\n",
    "    print(f\"   - Double quantization: True\")\n",
    "    \n",
    "    # Load model\n",
    "    print(f\"\\n🚀 Loading base model '{MODEL_NAME}' with 4-bit quantization...\")\n",
    "    model = StellaForSequenceClassification(MODEL_NAME, 2, quantization_config)\n",
    "    \n",
    "    # Load tokenizer\n",
    "    print(f\"\\n📝 Loading tokenizer...\")\n",
    "    tokenizer = AutoTokenizer.from_pretrained(MODEL_NAME)\n",
    "    \n",
    "    # Ensure tokenizer has a pad token\n",
    "    if tokenizer.pad_token is None:\n",
    "        tokenizer.pad_token = tokenizer.eos_token\n",
    "        print(\"✅ Set pad_token to eos_token\")\n",
    "    \n",
    "    print(f\"✅ Tokenizer loaded successfully!\")\n",
    "    print(f\"📏 Vocab size: {len(tokenizer)}\")\n",
    "    print(f\"🔤 Pad token: {tokenizer.pad_token}\")\n",
    "    \n",
    "else:\n",
    "    print(\"⚠️ Skipping model setup due to missing requirements.\")"
   ]
  },
  {
   "cell_type": "markdown",
   "id": "d3acb75f",
   "metadata": {},
   "source": [
    "## 7. LoRA Configuration and Application\n",
    "\n",
    "Apply LoRA adapters to the model with the correct target modules."
   ]
  },
  {
   "cell_type": "code",
   "execution_count": 8,
   "id": "90647692",
   "metadata": {},
   "outputs": [
    {
     "name": "stdout",
     "output_type": "stream",
     "text": [
      "\n",
      "✨ Applying LoRA adapters to the model...\n",
      "✅ Model prepared for k-bit training\n",
      "🎯 LoRA Configuration:\n",
      "   - Task: TaskType.SEQ_CLS\n",
      "   - Rank (r): 16\n",
      "   - Alpha: 32\n",
      "   - Dropout: 0.05\n",
      "   - Target modules: ['qkv_proj', 'o_proj']\n",
      "\n",
      "🔥 LoRA applied successfully!\n",
      "\n",
      "📊 LoRA Model Configuration:\n",
      "trainable params: 2,361,346 || all params: 436,502,532 || trainable%: 0.5410\n"
     ]
    }
   ],
   "source": [
    "# ==============================================================================\n",
    "# LORA CONFIGURATION AND APPLICATION\n",
    "# ==============================================================================\n",
    "if 'model' in locals() and model is not None:\n",
    "    print(\"\\n✨ Applying LoRA adapters to the model...\")\n",
    "    \n",
    "    # Prepare model for k-bit training\n",
    "    model = prepare_model_for_kbit_training(model)\n",
    "    print(\"✅ Model prepared for k-bit training\")\n",
    "    \n",
    "    # Configure LoRA\n",
    "    peft_config = LoraConfig(\n",
    "        task_type=TaskType.SEQ_CLS,\n",
    "        r=LORA_R,\n",
    "        lora_alpha=LORA_ALPHA,\n",
    "        lora_dropout=LORA_DROPOUT,\n",
    "        target_modules=LORA_TARGET_MODULES,\n",
    "        bias=\"none\",\n",
    "        inference_mode=False,\n",
    "    )\n",
    "    \n",
    "    print(f\"🎯 LoRA Configuration:\")\n",
    "    print(f\"   - Task: {TaskType.SEQ_CLS}\")\n",
    "    print(f\"   - Rank (r): {LORA_R}\")\n",
    "    print(f\"   - Alpha: {LORA_ALPHA}\")\n",
    "    print(f\"   - Dropout: {LORA_DROPOUT}\")\n",
    "    print(f\"   - Target modules: {LORA_TARGET_MODULES}\")\n",
    "    \n",
    "    # Apply LoRA\n",
    "    try:\n",
    "        model = get_peft_model(model, peft_config)\n",
    "        print(\"\\n🔥 LoRA applied successfully!\")\n",
    "        \n",
    "        # Print trainable parameters\n",
    "        print(\"\\n📊 LoRA Model Configuration:\")\n",
    "        model.print_trainable_parameters()\n",
    "        \n",
    "    except Exception as e:\n",
    "        print(f\"❌ Error applying LoRA: {e}\")\n",
    "        print(\"💡 This might be due to incorrect target module names.\")\n",
    "        print(\"🔍 Please verify the target modules are correct for this model.\")\n",
    "        model = None\n",
    "        \n",
    "else:\n",
    "    print(\"⚠️ Skipping LoRA setup due to missing model.\")"
   ]
  },
  {
   "cell_type": "markdown",
   "id": "1a521712",
   "metadata": {},
   "source": [
    "## 8. Data Tokenization\n",
    "\n",
    "Tokenize the datasets for training with proper padding and truncation."
   ]
  },
  {
   "cell_type": "code",
   "execution_count": 9,
   "id": "d850e3d9",
   "metadata": {},
   "outputs": [
    {
     "name": "stdout",
     "output_type": "stream",
     "text": [
      "\n",
      "📝 Tokenizing datasets...\n",
      "🔤 Tokenizing with max_length=512...\n",
      "   - Tokenizing training set...\n"
     ]
    },
    {
     "name": "stderr",
     "output_type": "stream",
     "text": [
      "Map:   0%|          | 0/29110 [00:00<?, ? examples/s]"
     ]
    },
    {
     "name": "stderr",
     "output_type": "stream",
     "text": [
      "Map: 100%|██████████| 29110/29110 [00:04<00:00, 5851.96 examples/s]\n",
      "Map: 100%|██████████| 29110/29110 [00:04<00:00, 5851.96 examples/s]\n"
     ]
    },
    {
     "name": "stdout",
     "output_type": "stream",
     "text": [
      "   - Tokenizing validation set...\n"
     ]
    },
    {
     "name": "stderr",
     "output_type": "stream",
     "text": [
      "Map: 100%|██████████| 3235/3235 [00:00<00:00, 6281.64 examples/s]\n",
      "Map: 100%|██████████| 3235/3235 [00:00<00:00, 6281.64 examples/s]\n"
     ]
    },
    {
     "name": "stdout",
     "output_type": "stream",
     "text": [
      "   - Tokenizing test set...\n"
     ]
    },
    {
     "name": "stderr",
     "output_type": "stream",
     "text": [
      "Map: 100%|██████████| 8087/8087 [00:01<00:00, 6179.58 examples/s]"
     ]
    },
    {
     "name": "stdout",
     "output_type": "stream",
     "text": [
      "\n",
      "✅ All datasets tokenized successfully!\n",
      "\n",
      "📋 Tokenization example:\n",
      "   Original text length: 205 chars\n",
      "   Tokenized length: 512 tokens\n",
      "   Label: 1\n"
     ]
    },
    {
     "name": "stderr",
     "output_type": "stream",
     "text": [
      "\n"
     ]
    }
   ],
   "source": [
    "# ==============================================================================\n",
    "# DATA TOKENIZATION\n",
    "# ==============================================================================\n",
    "if 'tokenizer' in locals() and tokenizer is not None and train_dataset is not None:\n",
    "    print(\"\\n📝 Tokenizing datasets...\")\n",
    "    \n",
    "    def tokenize_function(examples):\n",
    "        \"\"\"Tokenize text data with proper padding and truncation.\"\"\"\n",
    "        return tokenizer(\n",
    "            examples[\"text\"], \n",
    "            padding=\"max_length\", \n",
    "            truncation=True, \n",
    "            max_length=MAX_SEQ_LENGTH\n",
    "        )\n",
    "    \n",
    "    print(f\"🔤 Tokenizing with max_length={MAX_SEQ_LENGTH}...\")\n",
    "    \n",
    "    # Tokenize all datasets\n",
    "    print(\"   - Tokenizing training set...\")\n",
    "    tokenized_train = train_dataset.map(tokenize_function, batched=True)\n",
    "    \n",
    "    print(\"   - Tokenizing validation set...\")\n",
    "    tokenized_val = val_dataset.map(tokenize_function, batched=True)\n",
    "    \n",
    "    print(\"   - Tokenizing test set...\")\n",
    "    tokenized_test = test_dataset.map(tokenize_function, batched=True)\n",
    "    \n",
    "    print(\"\\n✅ All datasets tokenized successfully!\")\n",
    "    \n",
    "    # Show tokenization example\n",
    "    sample = tokenized_train[0]\n",
    "    print(f\"\\n📋 Tokenization example:\")\n",
    "    print(f\"   Original text length: {len(sample['text'])} chars\")\n",
    "    print(f\"   Tokenized length: {len(sample['input_ids'])} tokens\")\n",
    "    print(f\"   Label: {sample['label']}\")\n",
    "    \n",
    "else:\n",
    "    print(\"⚠️ Skipping tokenization due to missing components.\")"
   ]
  },
  {
   "cell_type": "markdown",
   "id": "05bd6f31",
   "metadata": {},
   "source": [
    "## 9. Training Configuration\n",
    "\n",
    "Set up the training arguments and evaluation metrics."
   ]
  },
  {
   "cell_type": "code",
   "execution_count": 22,
   "id": "003a0068",
   "metadata": {},
   "outputs": [
    {
     "name": "stdout",
     "output_type": "stream",
     "text": [
      "Requirement already satisfied: transformers in c:\\users\\zrhrissi\\documents\\phd models\\.venv\\lib\\site-packages (4.55.2)\n",
      "Requirement already satisfied: accelerate in c:\\users\\zrhrissi\\documents\\phd models\\.venv\\lib\\site-packages (1.10.0)\n",
      "Requirement already satisfied: peft in c:\\users\\zrhrissi\\documents\\phd models\\.venv\\lib\\site-packages (0.17.0)\n",
      "Requirement already satisfied: bitsandbytes in c:\\users\\zrhrissi\\documents\\phd models\\.venv\\lib\\site-packages (0.47.0)\n",
      "Requirement already satisfied: filelock in c:\\users\\zrhrissi\\documents\\phd models\\.venv\\lib\\site-packages (from transformers) (3.18.0)\n",
      "Requirement already satisfied: huggingface-hub<1.0,>=0.34.0 in c:\\users\\zrhrissi\\documents\\phd models\\.venv\\lib\\site-packages (from transformers) (0.34.3)\n",
      "Requirement already satisfied: numpy>=1.17 in c:\\users\\zrhrissi\\documents\\phd models\\.venv\\lib\\site-packages (from transformers) (2.3.2)\n",
      "Requirement already satisfied: packaging>=20.0 in c:\\users\\zrhrissi\\documents\\phd models\\.venv\\lib\\site-packages (from transformers) (25.0)\n",
      "Requirement already satisfied: pyyaml>=5.1 in c:\\users\\zrhrissi\\documents\\phd models\\.venv\\lib\\site-packages (from transformers) (6.0.2)\n",
      "Requirement already satisfied: regex!=2019.12.17 in c:\\users\\zrhrissi\\documents\\phd models\\.venv\\lib\\site-packages (from transformers) (2025.7.34)\n",
      "Requirement already satisfied: requests in c:\\users\\zrhrissi\\documents\\phd models\\.venv\\lib\\site-packages (from transformers) (2.32.4)\n",
      "Requirement already satisfied: tokenizers<0.22,>=0.21 in c:\\users\\zrhrissi\\documents\\phd models\\.venv\\lib\\site-packages (from transformers) (0.21.4)\n",
      "Requirement already satisfied: safetensors>=0.4.3 in c:\\users\\zrhrissi\\documents\\phd models\\.venv\\lib\\site-packages (from transformers) (0.5.3)\n",
      "Requirement already satisfied: tqdm>=4.27 in c:\\users\\zrhrissi\\documents\\phd models\\.venv\\lib\\site-packages (from transformers) (4.67.1)\n",
      "Requirement already satisfied: fsspec>=2023.5.0 in c:\\users\\zrhrissi\\documents\\phd models\\.venv\\lib\\site-packages (from huggingface-hub<1.0,>=0.34.0->transformers) (2025.3.0)\n",
      "Requirement already satisfied: typing-extensions>=3.7.4.3 in c:\\users\\zrhrissi\\documents\\phd models\\.venv\\lib\\site-packages (from huggingface-hub<1.0,>=0.34.0->transformers) (4.14.1)\n",
      "Requirement already satisfied: psutil in c:\\users\\zrhrissi\\documents\\phd models\\.venv\\lib\\site-packages (from accelerate) (7.0.0)\n",
      "Requirement already satisfied: torch>=2.0.0 in c:\\users\\zrhrissi\\documents\\phd models\\.venv\\lib\\site-packages (from accelerate) (2.7.1+cu118)\n",
      "Requirement already satisfied: sympy>=1.13.3 in c:\\users\\zrhrissi\\documents\\phd models\\.venv\\lib\\site-packages (from torch>=2.0.0->accelerate) (1.14.0)\n",
      "Requirement already satisfied: networkx in c:\\users\\zrhrissi\\documents\\phd models\\.venv\\lib\\site-packages (from torch>=2.0.0->accelerate) (3.5)\n",
      "Requirement already satisfied: jinja2 in c:\\users\\zrhrissi\\documents\\phd models\\.venv\\lib\\site-packages (from torch>=2.0.0->accelerate) (3.1.6)\n",
      "Requirement already satisfied: setuptools in c:\\users\\zrhrissi\\documents\\phd models\\.venv\\lib\\site-packages (from torch>=2.0.0->accelerate) (80.9.0)\n",
      "Requirement already satisfied: mpmath<1.4,>=1.1.0 in c:\\users\\zrhrissi\\documents\\phd models\\.venv\\lib\\site-packages (from sympy>=1.13.3->torch>=2.0.0->accelerate) (1.3.0)\n",
      "Requirement already satisfied: colorama in c:\\users\\zrhrissi\\documents\\phd models\\.venv\\lib\\site-packages (from tqdm>=4.27->transformers) (0.4.6)\n",
      "Requirement already satisfied: MarkupSafe>=2.0 in c:\\users\\zrhrissi\\documents\\phd models\\.venv\\lib\\site-packages (from jinja2->torch>=2.0.0->accelerate) (3.0.2)\n",
      "Requirement already satisfied: charset_normalizer<4,>=2 in c:\\users\\zrhrissi\\documents\\phd models\\.venv\\lib\\site-packages (from requests->transformers) (3.4.2)\n",
      "Requirement already satisfied: idna<4,>=2.5 in c:\\users\\zrhrissi\\documents\\phd models\\.venv\\lib\\site-packages (from requests->transformers) (3.10)\n",
      "Requirement already satisfied: urllib3<3,>=1.21.1 in c:\\users\\zrhrissi\\documents\\phd models\\.venv\\lib\\site-packages (from requests->transformers) (2.5.0)\n",
      "Requirement already satisfied: certifi>=2017.4.17 in c:\\users\\zrhrissi\\documents\\phd models\\.venv\\lib\\site-packages (from requests->transformers) (2025.8.3)\n"
     ]
    }
   ],
   "source": [
    "! pip install --upgrade transformers accelerate peft bitsandbytes"
   ]
  },
  {
   "cell_type": "code",
   "execution_count": 12,
   "id": "6e3071b1",
   "metadata": {},
   "outputs": [
    {
     "name": "stdout",
     "output_type": "stream",
     "text": [
      "\n",
      "📋 Setting up Hugging Face Trainer...\n",
      "📋 Setting up Hugging Face Trainer...\n",
      "✅ Training arguments configured:\n",
      "   📊 Effective batch size: 16\n",
      "   📚 Learning rate: 0.0002\n",
      "   🔄 Epochs: 3\n",
      "   💾 Precision: BF16\n",
      "   🎯 Best model metric: F1 score\n"
     ]
    }
   ],
   "source": [
    "# ==============================================================================\n",
    "# TRAINING CONFIGURATION\n",
    "# ==============================================================================\n",
    "def compute_metrics(eval_pred):\n",
    "    \"\"\"Compute evaluation metrics.\"\"\"\n",
    "    logits, labels = eval_pred\n",
    "    preds = np.argmax(logits, axis=-1)\n",
    "    \n",
    "    # Calculate metrics\n",
    "    precision, recall, f1, _ = precision_recall_fscore_support(labels, preds, average='binary')\n",
    "    acc = accuracy_score(labels, preds)\n",
    "    \n",
    "    return {\n",
    "        'accuracy': acc,\n",
    "        'f1': f1,\n",
    "        'precision': precision,\n",
    "        'recall': recall\n",
    "    }\n",
    "\n",
    "if 'model' in locals() and model is not None:\n",
    "    print(\"\\n📋 Setting up Hugging Face Trainer...\")\n",
    "    \n",
    "    # Create output directory\n",
    "    os.makedirs(OUTPUT_DIR, exist_ok=True)\n",
    "\n",
    "    # --- Step 6: Configure the Trainer (Modern Version) ---\n",
    "    print(\"📋 Setting up Hugging Face Trainer...\")\n",
    "\n",
    "    # Configure training arguments with correct parameter names for current transformers version\n",
    "    training_args = TrainingArguments(\n",
    "        output_dir=OUTPUT_DIR,\n",
    "        num_train_epochs=NUM_EPOCHS,\n",
    "        per_device_train_batch_size=BATCH_SIZE,\n",
    "        per_device_eval_batch_size=BATCH_SIZE * 2,  # Larger batch for evaluation\n",
    "        gradient_accumulation_steps=GRADIENT_ACCUMULATION_STEPS,\n",
    "        learning_rate=LEARNING_RATE,\n",
    "        lr_scheduler_type=\"cosine\",\n",
    "        warmup_ratio=0.1,\n",
    "        optim=\"paged_adamw_8bit\",\n",
    "        fp16=not has_bf16_support,\n",
    "        bf16=has_bf16_support,\n",
    "        logging_dir=f\"{OUTPUT_DIR}/logs\",\n",
    "        logging_steps=25,\n",
    "        \n",
    "        # Use correct parameter names for current transformers version\n",
    "        eval_strategy=\"epoch\",  # Changed from evaluation_strategy\n",
    "        save_strategy=\"epoch\",\n",
    "        save_total_limit=2,\n",
    "        \n",
    "        # Load best model configuration\n",
    "        load_best_model_at_end=True,\n",
    "        metric_for_best_model=\"f1\",\n",
    "        greater_is_better=True,\n",
    "        \n",
    "        # Other configurations\n",
    "        report_to=\"none\",\n",
    "        remove_unused_columns=True,\n",
    "        dataloader_pin_memory=False,\n",
    "        push_to_hub=False,\n",
    "    )\n",
    "    \n",
    "    print(\"✅ Training arguments configured:\")\n",
    "    print(f\"   📊 Effective batch size: {BATCH_SIZE * GRADIENT_ACCUMULATION_STEPS}\")\n",
    "    print(f\"   📚 Learning rate: {LEARNING_RATE}\")\n",
    "    print(f\"   🔄 Epochs: {NUM_EPOCHS}\")\n",
    "    print(f\"   💾 Precision: {'BF16' if has_bf16_support else 'FP16'}\")\n",
    "    print(f\"   🎯 Best model metric: F1 score\")\n",
    "    \n",
    "else:\n",
    "    print(\"⚠️ Skipping training configuration due to missing model.\")"
   ]
  },
  {
   "cell_type": "markdown",
   "id": "aaee224c",
   "metadata": {},
   "source": [
    "## 10. Model Training\n",
    "\n",
    "Initialize the trainer and start the fine-tuning process."
   ]
  },
  {
   "cell_type": "code",
   "execution_count": 13,
   "id": "863ba024",
   "metadata": {},
   "outputs": [
    {
     "name": "stdout",
     "output_type": "stream",
     "text": [
      "\n",
      "🚀 Initializing Trainer...\n",
      "✅ Trainer initialized successfully!\n",
      "\n",
      "============================================================\n",
      "🚀 STARTING QLORA FINE-TUNING\n",
      "============================================================\n",
      "🎯 Model: NovaSearch/stella_en_400M_v5\n",
      "📊 Training samples: 29,110\n",
      "🔍 Validation samples: 3,235\n",
      "⚙️ LoRA target modules: ['qkv_proj', 'o_proj']\n",
      "============================================================\n",
      "\n",
      "🔥 Training in progress...\n"
     ]
    },
    {
     "name": "stderr",
     "output_type": "stream",
     "text": [
      "C:\\Users\\zrhrissi\\AppData\\Local\\Temp\\ipykernel_21136\\3772442309.py:10: FutureWarning: `tokenizer` is deprecated and will be removed in version 5.0.0 for `Trainer.__init__`. Use `processing_class` instead.\n",
      "  trainer = Trainer(\n",
      "c:\\Users\\zrhrissi\\Documents\\Phd models\\.venv\\Lib\\site-packages\\transformers\\modeling_utils.py:1773: FutureWarning: The `device` argument is deprecated and will be removed in v5 of Transformers.\n",
      "  warnings.warn(\n",
      "c:\\Users\\zrhrissi\\Documents\\Phd models\\.venv\\Lib\\site-packages\\transformers\\modeling_utils.py:1773: FutureWarning: The `device` argument is deprecated and will be removed in v5 of Transformers.\n",
      "  warnings.warn(\n"
     ]
    },
    {
     "data": {
      "text/html": [
       "\n",
       "    <div>\n",
       "      \n",
       "      <progress value='5460' max='5460' style='width:300px; height:20px; vertical-align: middle;'></progress>\n",
       "      [5460/5460 4:14:15, Epoch 3/3]\n",
       "    </div>\n",
       "    <table border=\"1\" class=\"dataframe\">\n",
       "  <thead>\n",
       " <tr style=\"text-align: left;\">\n",
       "      <th>Epoch</th>\n",
       "      <th>Training Loss</th>\n",
       "      <th>Validation Loss</th>\n",
       "      <th>Accuracy</th>\n",
       "      <th>F1</th>\n",
       "      <th>Precision</th>\n",
       "      <th>Recall</th>\n",
       "    </tr>\n",
       "  </thead>\n",
       "  <tbody>\n",
       "    <tr>\n",
       "      <td>1</td>\n",
       "      <td>0.357500</td>\n",
       "      <td>0.114063</td>\n",
       "      <td>0.977434</td>\n",
       "      <td>0.977223</td>\n",
       "      <td>0.986767</td>\n",
       "      <td>0.967862</td>\n",
       "    </tr>\n",
       "    <tr>\n",
       "      <td>2</td>\n",
       "      <td>0.427800</td>\n",
       "      <td>0.156873</td>\n",
       "      <td>0.968161</td>\n",
       "      <td>0.969004</td>\n",
       "      <td>0.944282</td>\n",
       "      <td>0.995056</td>\n",
       "    </tr>\n",
       "    <tr>\n",
       "      <td>3</td>\n",
       "      <td>0.409000</td>\n",
       "      <td>0.112774</td>\n",
       "      <td>0.978980</td>\n",
       "      <td>0.979230</td>\n",
       "      <td>0.967995</td>\n",
       "      <td>0.990729</td>\n",
       "    </tr>\n",
       "  </tbody>\n",
       "</table><p>"
      ],
      "text/plain": [
       "<IPython.core.display.HTML object>"
      ]
     },
     "metadata": {},
     "output_type": "display_data"
    },
    {
     "name": "stdout",
     "output_type": "stream",
     "text": [
      "\n",
      "🚀 Initializing Trainer...\n",
      "✅ Trainer initialized successfully!\n",
      "\n",
      "============================================================\n",
      "🚀 STARTING QLORA FINE-TUNING\n",
      "============================================================\n",
      "🎯 Model: NovaSearch/stella_en_400M_v5\n",
      "📊 Training samples: 29,110\n",
      "🔍 Validation samples: 3,235\n",
      "⚙️ LoRA target modules: ['qkv_proj', 'o_proj']\n",
      "============================================================\n",
      "\n",
      "🔥 Training in progress...\n"
     ]
    },
    {
     "name": "stderr",
     "output_type": "stream",
     "text": [
      "C:\\Users\\zrhrissi\\AppData\\Local\\Temp\\ipykernel_21136\\3772442309.py:10: FutureWarning: `tokenizer` is deprecated and will be removed in version 5.0.0 for `Trainer.__init__`. Use `processing_class` instead.\n",
      "  trainer = Trainer(\n",
      "c:\\Users\\zrhrissi\\Documents\\Phd models\\.venv\\Lib\\site-packages\\transformers\\modeling_utils.py:1773: FutureWarning: The `device` argument is deprecated and will be removed in v5 of Transformers.\n",
      "  warnings.warn(\n",
      "c:\\Users\\zrhrissi\\Documents\\Phd models\\.venv\\Lib\\site-packages\\transformers\\modeling_utils.py:1773: FutureWarning: The `device` argument is deprecated and will be removed in v5 of Transformers.\n",
      "  warnings.warn(\n"
     ]
    },
    {
     "data": {
      "text/html": [
       "\n",
       "    <div>\n",
       "      \n",
       "      <progress value='1821' max='5460' style='width:300px; height:20px; vertical-align: middle;'></progress>\n",
       "      [1821/5460 1:22:42 < 2:45:27, 0.37 it/s, Epoch 1/3]\n",
       "    </div>\n",
       "    <table border=\"1\" class=\"dataframe\">\n",
       "  <thead>\n",
       " <tr style=\"text-align: left;\">\n",
       "      <th>Epoch</th>\n",
       "      <th>Training Loss</th>\n",
       "      <th>Validation Loss</th>\n",
       "      <th>Accuracy</th>\n",
       "      <th>F1</th>\n",
       "      <th>Precision</th>\n",
       "      <th>Recall</th>\n",
       "    </tr>\n",
       "  </thead>\n",
       "  <tbody>\n",
       "    <tr>\n",
       "      <td>1</td>\n",
       "      <td>0.357500</td>\n",
       "      <td>0.114063</td>\n",
       "      <td>0.977434</td>\n",
       "      <td>0.977223</td>\n",
       "      <td>0.986767</td>\n",
       "      <td>0.967862</td>\n",
       "    </tr>\n",
       "  </tbody>\n",
       "</table><p>"
      ],
      "text/plain": [
       "<IPython.core.display.HTML object>"
      ]
     },
     "metadata": {},
     "output_type": "display_data"
    },
    {
     "name": "stderr",
     "output_type": "stream",
     "text": [
      "c:\\Users\\zrhrissi\\Documents\\Phd models\\.venv\\Lib\\site-packages\\transformers\\modeling_utils.py:1773: FutureWarning: The `device` argument is deprecated and will be removed in v5 of Transformers.\n",
      "  warnings.warn(\n",
      "c:\\Users\\zrhrissi\\Documents\\Phd models\\.venv\\Lib\\site-packages\\transformers\\modeling_utils.py:1773: FutureWarning: The `device` argument is deprecated and will be removed in v5 of Transformers.\n",
      "  warnings.warn(\n",
      "c:\\Users\\zrhrissi\\Documents\\Phd models\\.venv\\Lib\\site-packages\\transformers\\modeling_utils.py:1773: FutureWarning: The `device` argument is deprecated and will be removed in v5 of Transformers.\n",
      "  warnings.warn(\n"
     ]
    },
    {
     "name": "stdout",
     "output_type": "stream",
     "text": [
      "\n",
      "🚀 Initializing Trainer...\n",
      "✅ Trainer initialized successfully!\n",
      "\n",
      "============================================================\n",
      "🚀 STARTING QLORA FINE-TUNING\n",
      "============================================================\n",
      "🎯 Model: NovaSearch/stella_en_400M_v5\n",
      "📊 Training samples: 29,110\n",
      "🔍 Validation samples: 3,235\n",
      "⚙️ LoRA target modules: ['qkv_proj', 'o_proj']\n",
      "============================================================\n",
      "\n",
      "🔥 Training in progress...\n"
     ]
    },
    {
     "name": "stderr",
     "output_type": "stream",
     "text": [
      "C:\\Users\\zrhrissi\\AppData\\Local\\Temp\\ipykernel_21136\\3772442309.py:10: FutureWarning: `tokenizer` is deprecated and will be removed in version 5.0.0 for `Trainer.__init__`. Use `processing_class` instead.\n",
      "  trainer = Trainer(\n",
      "c:\\Users\\zrhrissi\\Documents\\Phd models\\.venv\\Lib\\site-packages\\transformers\\modeling_utils.py:1773: FutureWarning: The `device` argument is deprecated and will be removed in v5 of Transformers.\n",
      "  warnings.warn(\n",
      "c:\\Users\\zrhrissi\\Documents\\Phd models\\.venv\\Lib\\site-packages\\transformers\\modeling_utils.py:1773: FutureWarning: The `device` argument is deprecated and will be removed in v5 of Transformers.\n",
      "  warnings.warn(\n"
     ]
    },
    {
     "data": {
      "text/html": [
       "\n",
       "    <div>\n",
       "      \n",
       "      <progress value='5460' max='5460' style='width:300px; height:20px; vertical-align: middle;'></progress>\n",
       "      [5460/5460 4:14:15, Epoch 3/3]\n",
       "    </div>\n",
       "    <table border=\"1\" class=\"dataframe\">\n",
       "  <thead>\n",
       " <tr style=\"text-align: left;\">\n",
       "      <th>Epoch</th>\n",
       "      <th>Training Loss</th>\n",
       "      <th>Validation Loss</th>\n",
       "      <th>Accuracy</th>\n",
       "      <th>F1</th>\n",
       "      <th>Precision</th>\n",
       "      <th>Recall</th>\n",
       "    </tr>\n",
       "  </thead>\n",
       "  <tbody>\n",
       "    <tr>\n",
       "      <td>1</td>\n",
       "      <td>0.357500</td>\n",
       "      <td>0.114063</td>\n",
       "      <td>0.977434</td>\n",
       "      <td>0.977223</td>\n",
       "      <td>0.986767</td>\n",
       "      <td>0.967862</td>\n",
       "    </tr>\n",
       "    <tr>\n",
       "      <td>2</td>\n",
       "      <td>0.427800</td>\n",
       "      <td>0.156873</td>\n",
       "      <td>0.968161</td>\n",
       "      <td>0.969004</td>\n",
       "      <td>0.944282</td>\n",
       "      <td>0.995056</td>\n",
       "    </tr>\n",
       "    <tr>\n",
       "      <td>3</td>\n",
       "      <td>0.409000</td>\n",
       "      <td>0.112774</td>\n",
       "      <td>0.978980</td>\n",
       "      <td>0.979230</td>\n",
       "      <td>0.967995</td>\n",
       "      <td>0.990729</td>\n",
       "    </tr>\n",
       "  </tbody>\n",
       "</table><p>"
      ],
      "text/plain": [
       "<IPython.core.display.HTML object>"
      ]
     },
     "metadata": {},
     "output_type": "display_data"
    },
    {
     "name": "stderr",
     "output_type": "stream",
     "text": [
      "c:\\Users\\zrhrissi\\Documents\\Phd models\\.venv\\Lib\\site-packages\\transformers\\modeling_utils.py:1773: FutureWarning: The `device` argument is deprecated and will be removed in v5 of Transformers.\n",
      "  warnings.warn(\n",
      "c:\\Users\\zrhrissi\\Documents\\Phd models\\.venv\\Lib\\site-packages\\transformers\\modeling_utils.py:1773: FutureWarning: The `device` argument is deprecated and will be removed in v5 of Transformers.\n",
      "  warnings.warn(\n",
      "c:\\Users\\zrhrissi\\Documents\\Phd models\\.venv\\Lib\\site-packages\\transformers\\modeling_utils.py:1773: FutureWarning: The `device` argument is deprecated and will be removed in v5 of Transformers.\n",
      "  warnings.warn(\n"
     ]
    },
    {
     "name": "stdout",
     "output_type": "stream",
     "text": [
      "\n",
      "============================================================\n",
      "✅ TRAINING COMPLETED SUCCESSFULLY!\n",
      "============================================================\n",
      "📊 Training results:\n",
      "   - Final training loss: 0.8471\n",
      "   - Training steps: 5460\n",
      "   - Training time: 15258.34 seconds\n",
      "\n",
      "💾 Saving model to: ./stella_qlora_finetuned_model\n",
      "✅ Model saved successfully!\n"
     ]
    }
   ],
   "source": [
    "# ==============================================================================\n",
    "# MODEL TRAINING\n",
    "# ==============================================================================\n",
    "if ('model' in locals() and model is not None and \n",
    "    'tokenized_train' in locals() and tokenized_train is not None):\n",
    "    \n",
    "    print(\"\\n🚀 Initializing Trainer...\")\n",
    "    \n",
    "    # Initialize trainer\n",
    "    trainer = Trainer(\n",
    "        model=model,\n",
    "        args=training_args,\n",
    "        train_dataset=tokenized_train,\n",
    "        eval_dataset=tokenized_val,\n",
    "        compute_metrics=compute_metrics,\n",
    "        tokenizer=tokenizer,\n",
    "    )\n",
    "    \n",
    "    print(\"✅ Trainer initialized successfully!\")\n",
    "    \n",
    "    # Start training\n",
    "    print(\"\\n\" + \"=\"*60)\n",
    "    print(\"🚀 STARTING QLORA FINE-TUNING\")\n",
    "    print(\"=\"*60)\n",
    "    print(f\"🎯 Model: {MODEL_NAME}\")\n",
    "    print(f\"📊 Training samples: {len(tokenized_train):,}\")\n",
    "    print(f\"🔍 Validation samples: {len(tokenized_val):,}\")\n",
    "    print(f\"⚙️ LoRA target modules: {LORA_TARGET_MODULES}\")\n",
    "    print(\"=\"*60)\n",
    "    print(\"\\n🔥 Training in progress...\")\n",
    "    \n",
    "    try:\n",
    "        # Train the model\n",
    "        train_result = trainer.train()\n",
    "        \n",
    "        print(\"\\n\" + \"=\"*60)\n",
    "        print(\"✅ TRAINING COMPLETED SUCCESSFULLY!\")\n",
    "        print(\"=\"*60)\n",
    "        print(f\"📊 Training results:\")\n",
    "        print(f\"   - Final training loss: {train_result.training_loss:.4f}\")\n",
    "        print(f\"   - Training steps: {train_result.global_step}\")\n",
    "        print(f\"   - Training time: {train_result.metrics.get('train_runtime', 0):.2f} seconds\")\n",
    "        \n",
    "        # Save the model\n",
    "        print(f\"\\n💾 Saving model to: {OUTPUT_DIR}\")\n",
    "        trainer.save_model()\n",
    "        print(\"✅ Model saved successfully!\")\n",
    "        \n",
    "    except Exception as e:\n",
    "        print(f\"\\n❌ Training failed with error: {e}\")\n",
    "        print(\"💡 This might be due to:\")\n",
    "        print(\"   - Insufficient GPU memory\")\n",
    "        print(\"   - Incompatible model/library versions\")\n",
    "        print(\"   - Target module configuration issues\")\n",
    "        import traceback\n",
    "        traceback.print_exc()\n",
    "        \n",
    "else:\n",
    "    print(\"⚠️ Skipping training due to missing components.\")\n",
    "    print(\"Please ensure all previous cells ran successfully.\")"
   ]
  },
  {
   "cell_type": "markdown",
   "id": "bbe56a1e",
   "metadata": {},
   "source": [
    "## 11. Model Evaluation\n",
    "\n",
    "Evaluate the fine-tuned model on the test set and generate detailed metrics."
   ]
  },
  {
   "cell_type": "code",
   "execution_count": 14,
   "id": "ae0e288f",
   "metadata": {},
   "outputs": [
    {
     "name": "stdout",
     "output_type": "stream",
     "text": [
      "\n",
      "🧪 Evaluating final model on the test set...\n"
     ]
    },
    {
     "name": "stdout",
     "output_type": "stream",
     "text": [
      "\n",
      "🧪 Evaluating final model on the test set...\n"
     ]
    },
    {
     "name": "stderr",
     "output_type": "stream",
     "text": [
      "c:\\Users\\zrhrissi\\Documents\\Phd models\\.venv\\Lib\\site-packages\\transformers\\modeling_utils.py:1773: FutureWarning: The `device` argument is deprecated and will be removed in v5 of Transformers.\n",
      "  warnings.warn(\n"
     ]
    },
    {
     "name": "stdout",
     "output_type": "stream",
     "text": [
      "\n",
      "🧪 Evaluating final model on the test set...\n"
     ]
    },
    {
     "name": "stderr",
     "output_type": "stream",
     "text": [
      "c:\\Users\\zrhrissi\\Documents\\Phd models\\.venv\\Lib\\site-packages\\transformers\\modeling_utils.py:1773: FutureWarning: The `device` argument is deprecated and will be removed in v5 of Transformers.\n",
      "  warnings.warn(\n"
     ]
    },
    {
     "data": {
      "text/html": [],
      "text/plain": [
       "<IPython.core.display.HTML object>"
      ]
     },
     "metadata": {},
     "output_type": "display_data"
    },
    {
     "name": "stdout",
     "output_type": "stream",
     "text": [
      "\n",
      "🧪 Evaluating final model on the test set...\n"
     ]
    },
    {
     "name": "stderr",
     "output_type": "stream",
     "text": [
      "c:\\Users\\zrhrissi\\Documents\\Phd models\\.venv\\Lib\\site-packages\\transformers\\modeling_utils.py:1773: FutureWarning: The `device` argument is deprecated and will be removed in v5 of Transformers.\n",
      "  warnings.warn(\n"
     ]
    },
    {
     "data": {
      "text/html": [
       "\n",
       "    <div>\n",
       "      \n",
       "      <progress value='2022' max='2022' style='width:300px; height:20px; vertical-align: middle;'></progress>\n",
       "      [2022/2022 08:39]\n",
       "    </div>\n",
       "    "
      ],
      "text/plain": [
       "<IPython.core.display.HTML object>"
      ]
     },
     "metadata": {},
     "output_type": "display_data"
    },
    {
     "name": "stdout",
     "output_type": "stream",
     "text": [
      "\n",
      "==================================================\n",
      "📊 TEST SET EVALUATION RESULTS\n",
      "==================================================\n",
      "   Loss           : 0.1039\n",
      "   Accuracy       : 0.9798\n",
      "   F1             : 0.9801\n",
      "   Precision      : 0.9697\n",
      "   Recall         : 0.9906\n",
      "   Runtime        : 520.0823\n",
      "   Samples_per_second: 15.5490\n",
      "   Steps_per_second: 3.8880\n",
      "   Epoch          : 3.0000\n",
      "==================================================\n",
      "\n",
      "🔍 Generating detailed predictions...\n"
     ]
    },
    {
     "name": "stderr",
     "output_type": "stream",
     "text": [
      "c:\\Users\\zrhrissi\\Documents\\Phd models\\.venv\\Lib\\site-packages\\transformers\\modeling_utils.py:1773: FutureWarning: The `device` argument is deprecated and will be removed in v5 of Transformers.\n",
      "  warnings.warn(\n"
     ]
    },
    {
     "name": "stdout",
     "output_type": "stream",
     "text": [
      "\n",
      "🧪 Evaluating final model on the test set...\n"
     ]
    },
    {
     "name": "stderr",
     "output_type": "stream",
     "text": [
      "c:\\Users\\zrhrissi\\Documents\\Phd models\\.venv\\Lib\\site-packages\\transformers\\modeling_utils.py:1773: FutureWarning: The `device` argument is deprecated and will be removed in v5 of Transformers.\n",
      "  warnings.warn(\n"
     ]
    },
    {
     "data": {
      "text/html": [],
      "text/plain": [
       "<IPython.core.display.HTML object>"
      ]
     },
     "metadata": {},
     "output_type": "display_data"
    },
    {
     "name": "stdout",
     "output_type": "stream",
     "text": [
      "\n",
      "==================================================\n",
      "📊 TEST SET EVALUATION RESULTS\n",
      "==================================================\n",
      "   Loss           : 0.1039\n",
      "   Accuracy       : 0.9798\n",
      "   F1             : 0.9801\n",
      "   Precision      : 0.9697\n",
      "   Recall         : 0.9906\n",
      "   Runtime        : 520.0823\n",
      "   Samples_per_second: 15.5490\n",
      "   Steps_per_second: 3.8880\n",
      "   Epoch          : 3.0000\n",
      "==================================================\n",
      "\n",
      "🔍 Generating detailed predictions...\n"
     ]
    },
    {
     "name": "stderr",
     "output_type": "stream",
     "text": [
      "c:\\Users\\zrhrissi\\Documents\\Phd models\\.venv\\Lib\\site-packages\\transformers\\modeling_utils.py:1773: FutureWarning: The `device` argument is deprecated and will be removed in v5 of Transformers.\n",
      "  warnings.warn(\n"
     ]
    },
    {
     "name": "stdout",
     "output_type": "stream",
     "text": [
      "✅ Generated predictions for 8,087 test samples\n"
     ]
    }
   ],
   "source": [
    "# ==============================================================================\n",
    "# MODEL EVALUATION\n",
    "# ==============================================================================\n",
    "if ('trainer' in locals() and trainer is not None and \n",
    "    'tokenized_test' in locals() and tokenized_test is not None):\n",
    "    \n",
    "    print(\"\\n🧪 Evaluating final model on the test set...\")\n",
    "    \n",
    "    try:\n",
    "        # Evaluate on test set\n",
    "        eval_results = trainer.evaluate(eval_dataset=tokenized_test)\n",
    "        \n",
    "        print(\"\\n\" + \"=\"*50)\n",
    "        print(\"📊 TEST SET EVALUATION RESULTS\")\n",
    "        print(\"=\"*50)\n",
    "        \n",
    "        for key, value in eval_results.items():\n",
    "            metric_name = key.replace('eval_', '').capitalize()\n",
    "            if isinstance(value, float):\n",
    "                print(f\"   {metric_name:<15}: {value:.4f}\")\n",
    "            else:\n",
    "                print(f\"   {metric_name:<15}: {value}\")\n",
    "        \n",
    "        print(\"=\"*50)\n",
    "        \n",
    "        # Get detailed predictions\n",
    "        print(\"\\n🔍 Generating detailed predictions...\")\n",
    "        predictions = trainer.predict(tokenized_test)\n",
    "        y_pred = predictions.predictions.argmax(axis=1)\n",
    "        y_true = tokenized_test['label']\n",
    "        \n",
    "        print(f\"✅ Generated predictions for {len(y_pred):,} test samples\")\n",
    "        \n",
    "        # Store results for visualization\n",
    "        test_results = {\n",
    "            'eval_results': eval_results,\n",
    "            'y_true': y_true,\n",
    "            'y_pred': y_pred,\n",
    "            'predictions': predictions\n",
    "        }\n",
    "        \n",
    "    except Exception as e:\n",
    "        print(f\"❌ Evaluation failed: {e}\")\n",
    "        test_results = None\n",
    "        \n",
    "else:\n",
    "    print(\"⚠️ Skipping evaluation due to missing trainer or test data.\")\n",
    "    test_results = None"
   ]
  },
  {
   "cell_type": "markdown",
   "id": "726f0e2f",
   "metadata": {},
   "source": [
    "## 12. Results Visualization\n",
    "\n",
    "Generate detailed classification report, confusion matrix, and visualizations."
   ]
  },
  {
   "cell_type": "code",
   "execution_count": 15,
   "id": "3cc84755",
   "metadata": {},
   "outputs": [
    {
     "name": "stdout",
     "output_type": "stream",
     "text": [
      "\n",
      "📋 Generating detailed classification report...\n",
      "\n",
      "📊 DETAILED CLASSIFICATION REPORT\n",
      "============================================================\n",
      "              precision    recall  f1-score   support\n",
      "\n",
      " Real Review     0.9904    0.9691    0.9796      4044\n",
      " Fake Review     0.9697    0.9906    0.9801      4043\n",
      "\n",
      "    accuracy                         0.9798      8087\n",
      "   macro avg     0.9801    0.9798    0.9798      8087\n",
      "weighted avg     0.9801    0.9798    0.9798      8087\n",
      "\n",
      "\n",
      "🎯 Creating confusion matrix visualization...\n",
      "              precision    recall  f1-score   support\n",
      "\n",
      " Real Review     0.9904    0.9691    0.9796      4044\n",
      " Fake Review     0.9697    0.9906    0.9801      4043\n",
      "\n",
      "    accuracy                         0.9798      8087\n",
      "   macro avg     0.9801    0.9798    0.9798      8087\n",
      "weighted avg     0.9801    0.9798    0.9798      8087\n",
      "\n",
      "\n",
      "🎯 Creating confusion matrix visualization...\n"
     ]
    },
    {
     "name": "stdout",
     "output_type": "stream",
     "text": [
      "\n",
      "📋 Generating detailed classification report...\n",
      "\n",
      "📊 DETAILED CLASSIFICATION REPORT\n",
      "============================================================\n",
      "              precision    recall  f1-score   support\n",
      "\n",
      " Real Review     0.9904    0.9691    0.9796      4044\n",
      " Fake Review     0.9697    0.9906    0.9801      4043\n",
      "\n",
      "    accuracy                         0.9798      8087\n",
      "   macro avg     0.9801    0.9798    0.9798      8087\n",
      "weighted avg     0.9801    0.9798    0.9798      8087\n",
      "\n",
      "\n",
      "🎯 Creating confusion matrix visualization...\n",
      "              precision    recall  f1-score   support\n",
      "\n",
      " Real Review     0.9904    0.9691    0.9796      4044\n",
      " Fake Review     0.9697    0.9906    0.9801      4043\n",
      "\n",
      "    accuracy                         0.9798      8087\n",
      "   macro avg     0.9801    0.9798    0.9798      8087\n",
      "weighted avg     0.9801    0.9798    0.9798      8087\n",
      "\n",
      "\n",
      "🎯 Creating confusion matrix visualization...\n"
     ]
    },
    {
     "data": {
      "image/png": "[encoded data removed]",
      "text/plain": [
       "<Figure size 1000x800 with 2 Axes>"
      ]
     },
     "metadata": {},
     "output_type": "display_data"
    },
    {
     "name": "stdout",
     "output_type": "stream",
     "text": [
      "\n",
      "📋 Generating detailed classification report...\n",
      "\n",
      "📊 DETAILED CLASSIFICATION REPORT\n",
      "============================================================\n",
      "              precision    recall  f1-score   support\n",
      "\n",
      " Real Review     0.9904    0.9691    0.9796      4044\n",
      " Fake Review     0.9697    0.9906    0.9801      4043\n",
      "\n",
      "    accuracy                         0.9798      8087\n",
      "   macro avg     0.9801    0.9798    0.9798      8087\n",
      "weighted avg     0.9801    0.9798    0.9798      8087\n",
      "\n",
      "\n",
      "🎯 Creating confusion matrix visualization...\n",
      "              precision    recall  f1-score   support\n",
      "\n",
      " Real Review     0.9904    0.9691    0.9796      4044\n",
      " Fake Review     0.9697    0.9906    0.9801      4043\n",
      "\n",
      "    accuracy                         0.9798      8087\n",
      "   macro avg     0.9801    0.9798    0.9798      8087\n",
      "weighted avg     0.9801    0.9798    0.9798      8087\n",
      "\n",
      "\n",
      "🎯 Creating confusion matrix visualization...\n"
     ]
    },
    {
     "data": {
      "image/png": "[encoded data removed]",
      "text/plain": [
       "<Figure size 1000x800 with 2 Axes>"
      ]
     },
     "metadata": {},
     "output_type": "display_data"
    },
    {
     "name": "stdout",
     "output_type": "stream",
     "text": [
      "\n",
      "🏆 FINAL PERFORMANCE SUMMARY\n",
      "==================================================\n",
      "🎯 Overall Accuracy:  0.9798 (97.98%)\n",
      "🎯 Weighted Precision: 0.9801\n",
      "🎯 Weighted Recall:    0.9798\n",
      "🎯 Weighted F1-Score:  0.9798\n",
      "🎯 Overall Accuracy:  0.9798 (97.98%)\n",
      "🎯 Weighted Precision: 0.9801\n",
      "🎯 Weighted Recall:    0.9798\n",
      "🎯 Weighted F1-Score:  0.9798\n",
      "\n",
      "📊 Per-Class Metrics:\n",
      "\n",
      "   Real Review:\n",
      "      Precision: 0.9904\n",
      "      Recall:    0.9691\n",
      "      F1-Score:  0.9796\n",
      "      Support:   4044 samples\n",
      "\n",
      "   Fake Review:\n",
      "      Precision: 0.9697\n",
      "      Recall:    0.9906\n",
      "      F1-Score:  0.9801\n",
      "      Support:   4043 samples\n",
      "\n",
      "==================================================\n",
      "✅ EVALUATION COMPLETED SUCCESSFULLY!\n",
      "==================================================\n",
      "\n",
      "📊 Per-Class Metrics:\n",
      "\n",
      "   Real Review:\n",
      "      Precision: 0.9904\n",
      "      Recall:    0.9691\n",
      "      F1-Score:  0.9796\n",
      "      Support:   4044 samples\n",
      "\n",
      "   Fake Review:\n",
      "      Precision: 0.9697\n",
      "      Recall:    0.9906\n",
      "      F1-Score:  0.9801\n",
      "      Support:   4043 samples\n",
      "\n",
      "==================================================\n",
      "✅ EVALUATION COMPLETED SUCCESSFULLY!\n",
      "==================================================\n"
     ]
    }
   ],
   "source": [
    "# ==============================================================================\n",
    "# RESULTS VISUALIZATION\n",
    "# ==============================================================================\n",
    "if 'test_results' in locals() and test_results is not None:\n",
    "    print(\"\\n📋 Generating detailed classification report...\")\n",
    "    \n",
    "    y_true = test_results['y_true']\n",
    "    y_pred = test_results['y_pred']\n",
    "    \n",
    "    # Classification report\n",
    "    print(\"\\n📊 DETAILED CLASSIFICATION REPORT\")\n",
    "    print(\"=\"*60)\n",
    "    report = classification_report(\n",
    "        y_true, y_pred, \n",
    "        target_names=[\"Real Review\", \"Fake Review\"],\n",
    "        digits=4\n",
    "    )\n",
    "    print(report)\n",
    "    \n",
    "    # Confusion matrix\n",
    "    print(\"\\n🎯 Creating confusion matrix visualization...\")\n",
    "    \n",
    "    # Set up the plot style\n",
    "    plt.style.use('default')\n",
    "    sns.set_palette(\"husl\")\n",
    "    \n",
    "    # Create confusion matrix\n",
    "    cm = confusion_matrix(y_true, y_pred)\n",
    "    \n",
    "    # Plot confusion matrix\n",
    "    plt.figure(figsize=(10, 8))\n",
    "    sns.heatmap(\n",
    "        cm, \n",
    "        annot=True, \n",
    "        fmt='d', \n",
    "        cmap='Blues',\n",
    "        xticklabels=[\"Real Review\", \"Fake Review\"], \n",
    "        yticklabels=[\"Real Review\", \"Fake Review\"],\n",
    "        cbar_kws={'label': 'Number of Samples'}\n",
    "    )\n",
    "    \n",
    "    plt.title('Confusion Matrix - Fine-Tuned Stella (QLoRA)\\nFake Review Classification', \n",
    "              fontsize=16, fontweight='bold', pad=20)\n",
    "    plt.xlabel('Predicted Label', fontsize=14, fontweight='bold')\n",
    "    plt.ylabel('True Label', fontsize=14, fontweight='bold')\n",
    "    \n",
    "    # Add accuracy annotation\n",
    "    accuracy = accuracy_score(y_true, y_pred)\n",
    "    plt.figtext(0.02, 0.02, f'Overall Accuracy: {accuracy:.4f}', \n",
    "                fontsize=12, fontweight='bold')\n",
    "    \n",
    "    plt.tight_layout()\n",
    "    plt.show()\n",
    "    \n",
    "    # Performance summary\n",
    "    print(\"\\n🏆 FINAL PERFORMANCE SUMMARY\")\n",
    "    print(\"=\"*50)\n",
    "    \n",
    "    accuracy = accuracy_score(y_true, y_pred)\n",
    "    precision, recall, f1, _ = precision_recall_fscore_support(y_true, y_pred, average='weighted')\n",
    "    \n",
    "    print(f\"🎯 Overall Accuracy:  {accuracy:.4f} ({accuracy*100:.2f}%)\")\n",
    "    print(f\"🎯 Weighted Precision: {precision:.4f}\")\n",
    "    print(f\"🎯 Weighted Recall:    {recall:.4f}\")\n",
    "    print(f\"🎯 Weighted F1-Score:  {f1:.4f}\")\n",
    "    \n",
    "    # Per-class metrics\n",
    "    precision_per_class, recall_per_class, f1_per_class, support = precision_recall_fscore_support(y_true, y_pred)\n",
    "    \n",
    "    print(f\"\\n📊 Per-Class Metrics:\")\n",
    "    for i, class_name in enumerate([\"Real Review\", \"Fake Review\"]):\n",
    "        print(f\"\\n   {class_name}:\")\n",
    "        print(f\"      Precision: {precision_per_class[i]:.4f}\")\n",
    "        print(f\"      Recall:    {recall_per_class[i]:.4f}\")\n",
    "        print(f\"      F1-Score:  {f1_per_class[i]:.4f}\")\n",
    "        print(f\"      Support:   {support[i]} samples\")\n",
    "    \n",
    "    print(\"\\n\" + \"=\"*50)\n",
    "    print(\"✅ EVALUATION COMPLETED SUCCESSFULLY!\")\n",
    "    print(\"=\"*50)\n",
    "    \n",
    "else:\n",
    "    print(\"⚠️ No test results available for visualization.\")\n",
    "    print(\"Please ensure the evaluation step completed successfully.\")"
   ]
  },
  {
   "cell_type": "markdown",
   "id": "f5df2c6b",
   "metadata": {},
   "source": [
    "## 13. Summary and Next Steps\n",
    "\n",
    "Final summary of the fine-tuning process and recommendations."
   ]
  },
  {
   "cell_type": "code",
   "execution_count": 16,
   "id": "e625ea72",
   "metadata": {},
   "outputs": [
    {
     "name": "stdout",
     "output_type": "stream",
     "text": [
      "\n",
      "🎉 QLORA FINE-TUNING SUMMARY\n",
      "============================================================\n",
      "✅ Fine-tuning completed successfully!\n",
      "\n",
      "📋 Configuration used:\n",
      "   🤖 Model: NovaSearch/stella_en_400M_v5\n",
      "   🎯 Target modules: ['qkv_proj', 'o_proj']\n",
      "   🔧 LoRA rank: 16\n",
      "   📊 Batch size: 2 (effective: 16)\n",
      "   📚 Learning rate: 0.0002\n",
      "   🔄 Epochs: 3\n",
      "\n",
      "🏆 Final Results:\n",
      "   🎯 Test Accuracy: 0.9798 (97.98%)\n",
      "   🎯 Test F1-Score: 0.9798\n",
      "\n",
      "💾 Model saved to: ./stella_qlora_finetuned_model\n",
      "\n",
      "🚀 Next Steps:\n",
      "   1. 🔄 You can now load the fine-tuned model for inference\n",
      "   2. 📊 Compare results with other classification methods\n",
      "   3. 🎯 Consider hyperparameter tuning for better performance\n",
      "   4. 📝 Deploy the model for real-world fake review detection\n",
      "\n",
      "📖 Model Loading Example:\n",
      "```python\n",
      "from peft import AutoPeftModelForSequenceClassification\n",
      "from transformers import AutoTokenizer\n",
      "\n",
      "# Load the fine-tuned model\n",
      "model = AutoPeftModelForSequenceClassification.from_pretrained('./stella_qlora_finetuned_model')\n",
      "tokenizer = AutoTokenizer.from_pretrained('NovaSearch/stella_en_400M_v5')\n",
      "```\n",
      "\n",
      "============================================================\n",
      "🎯 QLoRA FINE-TUNING NOTEBOOK COMPLETED!\n",
      "============================================================\n",
      "\n",
      "🏆 Final Results:\n",
      "   🎯 Test Accuracy: 0.9798 (97.98%)\n",
      "   🎯 Test F1-Score: 0.9798\n",
      "\n",
      "💾 Model saved to: ./stella_qlora_finetuned_model\n",
      "\n",
      "🚀 Next Steps:\n",
      "   1. 🔄 You can now load the fine-tuned model for inference\n",
      "   2. 📊 Compare results with other classification methods\n",
      "   3. 🎯 Consider hyperparameter tuning for better performance\n",
      "   4. 📝 Deploy the model for real-world fake review detection\n",
      "\n",
      "📖 Model Loading Example:\n",
      "```python\n",
      "from peft import AutoPeftModelForSequenceClassification\n",
      "from transformers import AutoTokenizer\n",
      "\n",
      "# Load the fine-tuned model\n",
      "model = AutoPeftModelForSequenceClassification.from_pretrained('./stella_qlora_finetuned_model')\n",
      "tokenizer = AutoTokenizer.from_pretrained('NovaSearch/stella_en_400M_v5')\n",
      "```\n",
      "\n",
      "============================================================\n",
      "🎯 QLoRA FINE-TUNING NOTEBOOK COMPLETED!\n",
      "============================================================\n"
     ]
    }
   ],
   "source": [
    "# ==============================================================================\n",
    "# SUMMARY AND NEXT STEPS\n",
    "# ==============================================================================\n",
    "print(\"\\n🎉 QLORA FINE-TUNING SUMMARY\")\n",
    "print(\"=\"*60)\n",
    "\n",
    "if 'test_results' in locals() and test_results is not None:\n",
    "    print(\"✅ Fine-tuning completed successfully!\")\n",
    "    print(f\"\\n📋 Configuration used:\")\n",
    "    print(f\"   🤖 Model: {MODEL_NAME}\")\n",
    "    print(f\"   🎯 Target modules: {LORA_TARGET_MODULES}\")\n",
    "    print(f\"   🔧 LoRA rank: {LORA_R}\")\n",
    "    print(f\"   📊 Batch size: {BATCH_SIZE} (effective: {BATCH_SIZE * GRADIENT_ACCUMULATION_STEPS})\")\n",
    "    print(f\"   📚 Learning rate: {LEARNING_RATE}\")\n",
    "    print(f\"   🔄 Epochs: {NUM_EPOCHS}\")\n",
    "    \n",
    "    # Calculate final metrics\n",
    "    if 'y_true' in test_results and 'y_pred' in test_results:\n",
    "        final_accuracy = accuracy_score(test_results['y_true'], test_results['y_pred'])\n",
    "        _, _, final_f1, _ = precision_recall_fscore_support(\n",
    "            test_results['y_true'], test_results['y_pred'], average='weighted'\n",
    "        )\n",
    "        \n",
    "        print(f\"\\n🏆 Final Results:\")\n",
    "        print(f\"   🎯 Test Accuracy: {final_accuracy:.4f} ({final_accuracy*100:.2f}%)\")\n",
    "        print(f\"   🎯 Test F1-Score: {final_f1:.4f}\")\n",
    "    \n",
    "    print(f\"\\n💾 Model saved to: {OUTPUT_DIR}\")\n",
    "    \n",
    "else:\n",
    "    print(\"⚠️ Fine-tuning process encountered issues.\")\n",
    "    print(\"Please review the error messages above and check:\")\n",
    "    print(\"   - GPU availability and memory\")\n",
    "    print(\"   - Dataset path and format\")\n",
    "    print(\"   - Library compatibility\")\n",
    "    print(\"   - Target module configuration\")\n",
    "\n",
    "print(f\"\\n🚀 Next Steps:\")\n",
    "print(f\"   1. 🔄 You can now load the fine-tuned model for inference\")\n",
    "print(f\"   2. 📊 Compare results with other classification methods\")\n",
    "print(f\"   3. 🎯 Consider hyperparameter tuning for better performance\")\n",
    "print(f\"   4. 📝 Deploy the model for real-world fake review detection\")\n",
    "\n",
    "print(f\"\\n📖 Model Loading Example:\")\n",
    "print(f\"```python\")\n",
    "print(f\"from peft import AutoPeftModelForSequenceClassification\")\n",
    "print(f\"from transformers import AutoTokenizer\")\n",
    "print(f\"\")\n",
    "print(f\"# Load the fine-tuned model\")\n",
    "print(f\"model = AutoPeftModelForSequenceClassification.from_pretrained('{OUTPUT_DIR}')\")\n",
    "print(f\"tokenizer = AutoTokenizer.from_pretrained('{MODEL_NAME}')\")\n",
    "print(f\"```\")\n",
    "\n",
    "print(\"\\n\" + \"=\"*60)\n",
    "print(\"🎯 QLoRA FINE-TUNING NOTEBOOK COMPLETED!\")\n",
    "print(\"=\"*60)"
   ]
  }
 ],
 "metadata": {
  "kernelspec": {
   "display_name": ".venv",
   "language": "python",
   "name": "python3"
  },
  "language_info": {
   "codemirror_mode": {
    "name": "ipython",
    "version": 3
   },
   "file_extension": ".py",
   "mimetype": "text/x-python",
   "name": "python",
   "nbconvert_exporter": "python",
   "pygments_lexer": "ipython3",
   "version": "3.13.3"
  }
 },
 "nbformat": 4,
 "nbformat_minor": 5
}
