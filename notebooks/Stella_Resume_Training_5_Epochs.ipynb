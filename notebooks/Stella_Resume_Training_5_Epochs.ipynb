{
 "cells": [
  {
   "cell_type": "markdown",
   "id": "b6e11434",
   "metadata": {},
   "source": [
    "# 🚀 Stella QLoRA Resume Training (3→5 Epochs)\n",
    "\n",
    "## Overview\n",
    "This notebook resumes training the **Stella-400M** model from checkpoint-5460 (3 epochs completed) to complete a full **5-epoch training cycle** with comprehensive evaluation metrics.\n",
    "\n",
    "### Current State:\n",
    "- ✅ **Completed**: 3 epochs (best F1: **97.92%** at step 5460)\n",
    "- 🎯 **Target**: 5 total epochs (2 more epochs to train)\n",
    "- 🏆 **Goal**: Improve upon current best performance with comprehensive metrics\n",
    "\n",
    "### Key Features:\n",
    "- Resume from existing checkpoint with preserved training state\n",
    "- Comprehensive evaluation with confusion matrix, ROC curves, PR curves\n",
    "- Detailed performance analysis and comparison\n",
    "- Professional visualizations and reports"
   ]
  },
  {
   "cell_type": "markdown",
   "id": "aedb5d53",
   "metadata": {},
   "source": [
    "## 📦 Setup and Imports"
   ]
  },
  {
   "cell_type": "code",
   "execution_count": 1,
   "id": "420ceac9",
   "metadata": {},
   "outputs": [
    {
     "name": "stderr",
     "output_type": "stream",
     "text": [
      "c:\\Users\\zrhrissi\\Documents\\Phd models\\.venv\\Lib\\site-packages\\tqdm\\auto.py:21: TqdmWarning: IProgress not found. Please update jupyter and ipywidgets. See https://ipywidgets.readthedocs.io/en/stable/user_install.html\n",
      "  from .autonotebook import tqdm as notebook_tqdm\n"
     ]
    },
    {
     "name": "stdout",
     "output_type": "stream",
     "text": [
      "✅ All imports completed successfully!\n",
      "🔥 PyTorch version: 2.7.1+cu118\n",
      "🤖 Transformers available: True\n",
      "💾 GPU available: True\n"
     ]
    }
   ],
   "source": [
    "# Essential imports for QLoRA training and comprehensive evaluation\n",
    "import os\n",
    "import sys\n",
    "import torch\n",
    "import pandas as pd\n",
    "import numpy as np\n",
    "import matplotlib.pyplot as plt\n",
    "import seaborn as sns\n",
    "from sklearn.model_selection import train_test_split\n",
    "from sklearn.metrics import (\n",
    "    accuracy_score, \n",
    "    precision_recall_fscore_support,\n",
    "    confusion_matrix,\n",
    "    classification_report,\n",
    "    roc_auc_score,\n",
    "    roc_curve,\n",
    "    precision_recall_curve,\n",
    "    average_precision_score\n",
    ")\n",
    "from datasets import Dataset\n",
    "from transformers import (\n",
    "    AutoTokenizer, \n",
    "    AutoModelForSequenceClassification,\n",
    "    Trainer, \n",
    "    TrainingArguments,\n",
    "    BitsAndBytesConfig\n",
    ")\n",
    "from peft import (\n",
    "    get_peft_model, \n",
    "    LoraConfig, \n",
    "    TaskType, \n",
    "    prepare_model_for_kbit_training,\n",
    "    PeftModel\n",
    ")\n",
    "\n",
    "# Set style for better plots\n",
    "plt.style.use('default')\n",
    "sns.set_palette(\"husl\")\n",
    "\n",
    "print(\"✅ All imports completed successfully!\")\n",
    "print(f\"🔥 PyTorch version: {torch.__version__}\")\n",
    "print(f\"🤖 Transformers available: {torch.cuda.is_available()}\")\n",
    "print(f\"💾 GPU available: {torch.cuda.is_available()}\")"
   ]
  },
  {
   "cell_type": "markdown",
   "id": "c593d494",
   "metadata": {},
   "source": [
    "## ⚙️ Configuration"
   ]
  },
  {
   "cell_type": "code",
   "execution_count": 2,
   "id": "ef18cff5",
   "metadata": {},
   "outputs": [
    {
     "name": "stdout",
     "output_type": "stream",
     "text": [
      "🔄 STELLA QLORA TRAINING RESUME CONFIGURATION\n",
      "============================================================\n",
      "📋 Configuration Summary:\n",
      "   🎯 Model: NovaSearch/stella_en_400M_v5\n",
      "   📁 Checkpoint: ../models/stella_qlora_finetuned_model/checkpoint-5460\n",
      "   🔄 Total epochs: 5\n",
      "   ✅ Completed: 3\n",
      "   ⏳ Remaining: 2\n",
      "   🎯 Current best F1: 97.92%\n",
      "   📊 Batch size: 2\n",
      "   📈 Learning rate: 0.0002\n"
     ]
    }
   ],
   "source": [
    "# Training Configuration\n",
    "print(\"🔄 STELLA QLORA TRAINING RESUME CONFIGURATION\")\n",
    "print(\"=\" * 60)\n",
    "\n",
    "# Model and paths\n",
    "MODEL_NAME = \"NovaSearch/stella_en_400M_v5\"\n",
    "DATASET_PATH = \"../data/dataset/cleaned_dataset.csv\"\n",
    "CHECKPOINT_PATH = \"../models/stella_qlora_finetuned_model/checkpoint-5460\"\n",
    "OUTPUT_DIR = \"../models/stella_qlora_finetuned_model\"\n",
    "\n",
    "# Training Configuration (maintaining same parameters)\n",
    "TOTAL_EPOCHS = 5  # Target total epochs\n",
    "COMPLETED_EPOCHS = 3  # Already completed\n",
    "REMAINING_EPOCHS = TOTAL_EPOCHS - COMPLETED_EPOCHS  # 2 more epochs\n",
    "\n",
    "# Original hyperparameters (keep consistent)\n",
    "BATCH_SIZE = 2\n",
    "GRADIENT_ACCUMULATION_STEPS = 8\n",
    "LEARNING_RATE = 2e-4\n",
    "MAX_SEQ_LENGTH = 512\n",
    "\n",
    "print(f\"📋 Configuration Summary:\")\n",
    "print(f\"   🎯 Model: {MODEL_NAME}\")\n",
    "print(f\"   📁 Checkpoint: {CHECKPOINT_PATH}\")\n",
    "print(f\"   🔄 Total epochs: {TOTAL_EPOCHS}\")\n",
    "print(f\"   ✅ Completed: {COMPLETED_EPOCHS}\")\n",
    "print(f\"   ⏳ Remaining: {REMAINING_EPOCHS}\")\n",
    "print(f\"   🎯 Current best F1: 97.92%\")\n",
    "print(f\"   📊 Batch size: {BATCH_SIZE}\")\n",
    "print(f\"   📈 Learning rate: {LEARNING_RATE}\")"
   ]
  },
  {
   "cell_type": "markdown",
   "id": "da5d01f4",
   "metadata": {},
   "source": [
    "## 🖥️ Environment Setup"
   ]
  },
  {
   "cell_type": "code",
   "execution_count": 3,
   "id": "c8ed7125",
   "metadata": {},
   "outputs": [
    {
     "name": "stdout",
     "output_type": "stream",
     "text": [
      "✅ GPU detected: NVIDIA GeForce RTX 4050 Laptop GPU\n",
      "💾 GPU Memory: 6.0 GB\n",
      "🔥 BFloat16 Support: Yes\n",
      "🚀 Environment setup completed successfully!\n"
     ]
    }
   ],
   "source": [
    "# Setup and validate the training environment\n",
    "def setup_environment():\n",
    "    \"\"\"Setup and validate the training environment.\"\"\"\n",
    "    if not torch.cuda.is_available():\n",
    "        print(\"❌ No GPU detected. QLoRA requires a GPU for efficient training.\")\n",
    "        return None, None\n",
    "    \n",
    "    device = torch.device(\"cuda\")\n",
    "    has_bf16_support = torch.cuda.is_bf16_supported()\n",
    "    \n",
    "    # GPU info\n",
    "    gpu_name = torch.cuda.get_device_name(0)\n",
    "    gpu_memory = torch.cuda.get_device_properties(0).total_memory / 1024**3\n",
    "    \n",
    "    print(f\"✅ GPU detected: {gpu_name}\")\n",
    "    print(f\"💾 GPU Memory: {gpu_memory:.1f} GB\")\n",
    "    print(f\"🔥 BFloat16 Support: {'Yes' if has_bf16_support else 'No (using FP16)'}\")\n",
    "    \n",
    "    # Clear cache\n",
    "    torch.cuda.empty_cache()\n",
    "    \n",
    "    return device, has_bf16_support\n",
    "\n",
    "# Setup environment\n",
    "device, has_bf16_support = setup_environment()\n",
    "\n",
    "if device is None:\n",
    "    print(\"❌ Cannot proceed without GPU!\")\n",
    "else:\n",
    "    print(\"🚀 Environment setup completed successfully!\")"
   ]
  },
  {
   "cell_type": "markdown",
   "id": "c4295b23",
   "metadata": {},
   "source": [
    "## 📂 Data Loading and Preparation"
   ]
  },
  {
   "cell_type": "code",
   "execution_count": 4,
   "id": "23e42865",
   "metadata": {},
   "outputs": [
    {
     "name": "stdout",
     "output_type": "stream",
     "text": [
      "📂 Loading dataset from '../data/dataset/cleaned_dataset.csv'...\n",
      "✅ Dataset loaded successfully: 40432 samples\n",
      "\n",
      "📊 Dataset Overview:\n",
      "   • Total samples: 40432\n",
      "   • Columns: ['category', 'rating', 'text', 'label']\n",
      "   • Label distribution:\n",
      "label\n",
      "1    20216\n",
      "0    20216\n",
      "Name: count, dtype: int64\n"
     ]
    }
   ],
   "source": [
    "# Load and prepare the dataset (same as original training)\n",
    "print(f\"📂 Loading dataset from '{DATASET_PATH}'...\")\n",
    "\n",
    "try:\n",
    "    df = pd.read_csv(DATASET_PATH)\n",
    "    print(f\"✅ Dataset loaded successfully: {len(df)} samples\")\n",
    "    \n",
    "    # Display dataset info\n",
    "    print(f\"\\n📊 Dataset Overview:\")\n",
    "    print(f\"   • Total samples: {len(df)}\")\n",
    "    print(f\"   • Columns: {list(df.columns)}\")\n",
    "    print(f\"   • Label distribution:\")\n",
    "    print(df['label'].value_counts())\n",
    "    \n",
    "except FileNotFoundError:\n",
    "    print(f\"❌ Dataset not found! Please check the path: {DATASET_PATH}\")\n",
    "    df = None"
   ]
  },
  {
   "cell_type": "code",
   "execution_count": 5,
   "id": "a56eba86",
   "metadata": {},
   "outputs": [
    {
     "name": "stdout",
     "output_type": "stream",
     "text": [
      "📊 After cleaning: 40432 samples\n",
      "📈 Data splits (same as original):\n",
      "   - Training:   29110 samples\n",
      "   - Validation: 3235 samples\n",
      "   - Test:       8087 samples\n",
      "✅ Datasets created successfully!\n",
      "\n",
      "📝 Sample data:\n",
      "                                                    text  label\n",
      "39086  The quality of this lace is very nice. It is v...      1\n",
      "28991  This was my first Kristan Higgins book. I can ...      0\n"
     ]
    }
   ],
   "source": [
    "if df is not None:\n",
    "    # Clean data\n",
    "    df_clean = df[['text', 'label']].copy().dropna()\n",
    "    print(f\"📊 After cleaning: {len(df_clean)} samples\")\n",
    "    \n",
    "    # Same splits as original training (using same random_state for consistency)\n",
    "    train_val_df, test_df = train_test_split(\n",
    "        df_clean, test_size=0.2, random_state=42, stratify=df_clean['label']\n",
    "    )\n",
    "    train_df, val_df = train_test_split(\n",
    "        train_val_df, test_size=0.1, random_state=42, stratify=train_val_df['label']\n",
    "    )\n",
    "    \n",
    "    print(\"📈 Data splits (same as original):\")\n",
    "    print(f\"   - Training:   {len(train_df)} samples\")\n",
    "    print(f\"   - Validation: {len(val_df)} samples\")\n",
    "    print(f\"   - Test:       {len(test_df)} samples\")\n",
    "    \n",
    "    # Convert to datasets\n",
    "    train_dataset = Dataset.from_pandas(train_df)\n",
    "    val_dataset = Dataset.from_pandas(val_df)\n",
    "    test_dataset = Dataset.from_pandas(test_df)\n",
    "    \n",
    "    print(\"✅ Datasets created successfully!\")\n",
    "    \n",
    "    # Display sample data\n",
    "    print(\"\\n📝 Sample data:\")\n",
    "    print(train_df.head(2))\n",
    "else:\n",
    "    print(\"❌ Cannot proceed without dataset!\")"
   ]
  },
  {
   "cell_type": "markdown",
   "id": "cdab054d",
   "metadata": {},
   "source": [
    "## 🤖 Model Loading from Checkpoint"
   ]
  },
  {
   "cell_type": "code",
   "execution_count": 13,
   "id": "e6bc48ce",
   "metadata": {},
   "outputs": [
    {
     "name": "stdout",
     "output_type": "stream",
     "text": [
      "🔄 Loading model from checkpoint: ../models/stella_qlora_finetuned_model/checkpoint-5460\n",
      "🔍 Attempting to load complete model from checkpoint...\n",
      "📝 Loading tokenizer...\n",
      "🤖 Loading complete PEFT model from checkpoint...\n",
      "⚠️ Could not load as complete PEFT model: None is not a local folder and is not a valid model identifier listed on 'https://huggingface.co/models'\n",
      "If this is a private repository, make sure to pass a token having permission to this repo either by logging in with `hf auth login` or by passing `token=<your_token>`\n",
      "🔄 Trying alternative approach with custom model class...\n",
      "📝 Loading tokenizer...\n",
      "🤖 Loading complete PEFT model from checkpoint...\n",
      "⚠️ Could not load as complete PEFT model: None is not a local folder and is not a valid model identifier listed on 'https://huggingface.co/models'\n",
      "If this is a private repository, make sure to pass a token having permission to this repo either by logging in with `hf auth login` or by passing `token=<your_token>`\n",
      "🔄 Trying alternative approach with custom model class...\n",
      "📝 Loading tokenizer...\n",
      "🤖 Creating custom Stella model...\n",
      "🤖 Creating custom Stella model...\n"
     ]
    },
    {
     "name": "stderr",
     "output_type": "stream",
     "text": [
      "Some weights of the model checkpoint at NovaSearch/stella_en_400M_v5 were not used when initializing NewModel: ['pooler.dense.bias', 'pooler.dense.weight']\n",
      "- This IS expected if you are initializing NewModel from the checkpoint of a model trained on another task or with another architecture (e.g. initializing a BertForSequenceClassification model from a BertForPreTraining model).\n",
      "- This IS NOT expected if you are initializing NewModel from the checkpoint of a model that you expect to be exactly identical (initializing a BertForSequenceClassification model from a BertForSequenceClassification model).\n"
     ]
    },
    {
     "name": "stdout",
     "output_type": "stream",
     "text": [
      "🔗 Loading PEFT adapters from checkpoint...\n",
      "✅ Model loaded successfully from checkpoint!\n",
      "trainable params: 2,050 || all params: 436,502,532 || trainable%: 0.0005\n"
     ]
    }
   ],
   "source": [
    "# Load the model from the specified checkpoint\n",
    "print(f\"🔄 Loading model from checkpoint: {CHECKPOINT_PATH}\")\n",
    "\n",
    "if not os.path.exists(CHECKPOINT_PATH):\n",
    "    print(f\"❌ Checkpoint not found: {CHECKPOINT_PATH}\")\n",
    "    model, tokenizer = None, None\n",
    "else:\n",
    "    # First, let's try to load the complete model directly from checkpoint\n",
    "    print(\"🔍 Attempting to load complete model from checkpoint...\")\n",
    "    \n",
    "    try:\n",
    "        # Try loading as a complete PEFT model first\n",
    "        from peft import AutoPeftModelForSequenceClassification\n",
    "        \n",
    "        print(\"📝 Loading tokenizer...\")\n",
    "        tokenizer = AutoTokenizer.from_pretrained(MODEL_NAME)\n",
    "        if tokenizer.pad_token is None:\n",
    "            tokenizer.pad_token = tokenizer.eos_token\n",
    "        \n",
    "        print(\"🤖 Loading complete PEFT model from checkpoint...\")\n",
    "        model = AutoPeftModelForSequenceClassification.from_pretrained(\n",
    "            CHECKPOINT_PATH,\n",
    "            torch_dtype=torch.bfloat16 if has_bf16_support else torch.float16,\n",
    "            device_map=\"auto\"\n",
    "        )\n",
    "        \n",
    "        print(\"✅ Model loaded successfully from checkpoint!\")\n",
    "        model.print_trainable_parameters()\n",
    "        \n",
    "    except Exception as e:\n",
    "        print(f\"⚠️ Could not load as complete PEFT model: {e}\")\n",
    "        print(\"🔄 Trying alternative approach with custom model class...\")\n",
    "        \n",
    "        # Alternative approach: Recreate the custom model class\n",
    "        from transformers import AutoConfig, AutoModel\n",
    "        from torch.nn import CrossEntropyLoss\n",
    "        from transformers.modeling_outputs import SequenceClassifierOutput\n",
    "        import torch.nn as nn\n",
    "        \n",
    "        class StellaForSequenceClassification(torch.nn.Module):\n",
    "            \"\"\"Custom Stella model wrapper for sequence classification.\"\"\"\n",
    "            \n",
    "            def __init__(self, model_name, num_labels, quantization_config=None):\n",
    "                super(StellaForSequenceClassification, self).__init__()\n",
    "                self.num_labels = num_labels\n",
    "                \n",
    "                # Configure the model to disable memory efficient attention\n",
    "                config = AutoConfig.from_pretrained(model_name, trust_remote_code=True)\n",
    "                config.use_memory_efficient_attention = False\n",
    "                config.unpad_inputs = False\n",
    "                \n",
    "                # Load the base Stella model\n",
    "                if quantization_config:\n",
    "                    self.stella = AutoModel.from_pretrained(\n",
    "                        model_name,\n",
    "                        config=config,\n",
    "                        trust_remote_code=True,\n",
    "                        quantization_config=quantization_config,\n",
    "                        device_map=\"auto\"\n",
    "                    )\n",
    "                else:\n",
    "                    self.stella = AutoModel.from_pretrained(\n",
    "                        model_name,\n",
    "                        config=config,\n",
    "                        trust_remote_code=True,\n",
    "                        torch_dtype=torch.bfloat16 if has_bf16_support else torch.float16,\n",
    "                        device_map=\"auto\"\n",
    "                    )\n",
    "                \n",
    "                self.config = self.stella.config\n",
    "                \n",
    "                # Add classification head\n",
    "                self.dropout = torch.nn.Dropout(0.1)\n",
    "                self.classifier = torch.nn.Linear(self.config.hidden_size, num_labels)\n",
    "                \n",
    "            def forward(self, input_ids=None, attention_mask=None, labels=None, **kwargs):\n",
    "                \"\"\"Forward pass with proper pooling and classification.\"\"\"\n",
    "                # Get embeddings from Stella\n",
    "                outputs = self.stella(input_ids=input_ids, attention_mask=attention_mask)\n",
    "                last_hidden_state = outputs.last_hidden_state\n",
    "                \n",
    "                # Apply attention-weighted pooling\n",
    "                masked_hidden_state = last_hidden_state * attention_mask.unsqueeze(-1)\n",
    "                pooled_output = masked_hidden_state.sum(dim=1) / attention_mask.sum(dim=1, keepdim=True)\n",
    "                \n",
    "                # Classification\n",
    "                logits = self.classifier(self.dropout(pooled_output))\n",
    "                \n",
    "                # Calculate loss if labels provided\n",
    "                loss = None\n",
    "                if labels is not None:\n",
    "                    loss_fct = CrossEntropyLoss()\n",
    "                    loss = loss_fct(logits.view(-1, self.num_labels), labels.view(-1))\n",
    "                \n",
    "                return SequenceClassifierOutput(loss=loss, logits=logits)\n",
    "        \n",
    "        # Setup quantization (same as original)\n",
    "        compute_dtype = torch.bfloat16 if has_bf16_support else torch.float16\n",
    "        quantization_config = BitsAndBytesConfig(\n",
    "            load_in_4bit=True,\n",
    "            bnb_4bit_quant_type=\"nf4\",\n",
    "            bnb_4bit_compute_dtype=compute_dtype,\n",
    "            bnb_4bit_use_double_quant=True,\n",
    "        )\n",
    "        \n",
    "        print(\"📝 Loading tokenizer...\")\n",
    "        tokenizer = AutoTokenizer.from_pretrained(MODEL_NAME)\n",
    "        if tokenizer.pad_token is None:\n",
    "            tokenizer.pad_token = tokenizer.eos_token\n",
    "        \n",
    "        print(\"🤖 Creating custom Stella model...\")\n",
    "        base_model = StellaForSequenceClassification(MODEL_NAME, 2, quantization_config)\n",
    "        \n",
    "        # Prepare for k-bit training\n",
    "        base_model = prepare_model_for_kbit_training(base_model)\n",
    "        \n",
    "        print(\"🔗 Loading PEFT adapters from checkpoint...\")\n",
    "        model = PeftModel.from_pretrained(base_model, CHECKPOINT_PATH)\n",
    "        \n",
    "        print(\"✅ Model loaded successfully from checkpoint!\")\n",
    "        model.print_trainable_parameters()"
   ]
  },
  {
   "cell_type": "markdown",
   "id": "8568b265",
   "metadata": {},
   "source": [
    "## 🔤 Data Tokenization"
   ]
  },
  {
   "cell_type": "code",
   "execution_count": 14,
   "id": "2198b32d",
   "metadata": {},
   "outputs": [
    {
     "name": "stdout",
     "output_type": "stream",
     "text": [
      "🔤 Tokenizing datasets...\n"
     ]
    },
    {
     "name": "stderr",
     "output_type": "stream",
     "text": [
      "Map: 100%|██████████| 29110/29110 [00:04<00:00, 5892.82 examples/s]\n",
      "Map: 100%|██████████| 29110/29110 [00:04<00:00, 5892.82 examples/s]\n",
      "Map: 100%|██████████| 3235/3235 [00:00<00:00, 5992.52 examples/s]\n",
      "Map: 100%|██████████| 3235/3235 [00:00<00:00, 5992.52 examples/s]\n",
      "Map: 100%|██████████| 8087/8087 [00:01<00:00, 6030.78 examples/s]"
     ]
    },
    {
     "name": "stdout",
     "output_type": "stream",
     "text": [
      "✅ Datasets tokenized successfully!\n",
      "   📊 Training tokens: 29110\n",
      "   📊 Validation tokens: 3235\n",
      "   📊 Test tokens: 8087\n"
     ]
    },
    {
     "name": "stderr",
     "output_type": "stream",
     "text": [
      "\n"
     ]
    }
   ],
   "source": [
    "if model is not None and tokenizer is not None:\n",
    "    # Tokenize datasets\n",
    "    print(\"🔤 Tokenizing datasets...\")\n",
    "    \n",
    "    def tokenize_function(examples):\n",
    "        return tokenizer(\n",
    "            examples[\"text\"], \n",
    "            padding=\"max_length\", \n",
    "            truncation=True, \n",
    "            max_length=MAX_SEQ_LENGTH\n",
    "        )\n",
    "    \n",
    "    tokenized_train = train_dataset.map(tokenize_function, batched=True)\n",
    "    tokenized_val = val_dataset.map(tokenize_function, batched=True)\n",
    "    tokenized_test = test_dataset.map(tokenize_function, batched=True)\n",
    "    \n",
    "    print(\"✅ Datasets tokenized successfully!\")\n",
    "    print(f\"   📊 Training tokens: {len(tokenized_train)}\")\n",
    "    print(f\"   📊 Validation tokens: {len(tokenized_val)}\")\n",
    "    print(f\"   📊 Test tokens: {len(tokenized_test)}\")\n",
    "else:\n",
    "    print(\"❌ Cannot tokenize without model and tokenizer!\")"
   ]
  },
  {
   "cell_type": "markdown",
   "id": "19045cd6",
   "metadata": {},
   "source": [
    "## 🏋️ Training Setup and Metrics"
   ]
  },
  {
   "cell_type": "code",
   "execution_count": 15,
   "id": "a27d0c07",
   "metadata": {},
   "outputs": [
    {
     "name": "stdout",
     "output_type": "stream",
     "text": [
      "⚙️ Configuring training arguments for resume...\n",
      "🏋️ Initializing trainer for resume...\n",
      "\n",
      "🚀 TRAINING CONFIGURATION READY!\n",
      "   📊 Effective batch size: 16\n",
      "   📚 Learning rate: 0.0002\n",
      "   🔄 Target epochs: 5 (resume from epoch 3)\n",
      "   🎯 Current best F1: 97.92% (target: improve further)\n",
      "   💾 Precision: BF16\n"
     ]
    }
   ],
   "source": [
    "# Training metrics function\n",
    "def compute_metrics(eval_pred):\n",
    "    \"\"\"Compute evaluation metrics for training.\"\"\"\n",
    "    logits, labels = eval_pred\n",
    "    preds = np.argmax(logits, axis=-1)\n",
    "    \n",
    "    # Calculate metrics\n",
    "    precision, recall, f1, _ = precision_recall_fscore_support(\n",
    "        labels, preds, average='binary'\n",
    "    )\n",
    "    acc = accuracy_score(labels, preds)\n",
    "    \n",
    "    return {\n",
    "        'accuracy': acc,\n",
    "        'f1': f1,\n",
    "        'precision': precision,\n",
    "        'recall': recall\n",
    "    }\n",
    "\n",
    "# Configure training arguments for resuming\n",
    "if model is not None:\n",
    "    print(\"⚙️ Configuring training arguments for resume...\")\n",
    "    training_args = TrainingArguments(\n",
    "        output_dir=OUTPUT_DIR,\n",
    "        num_train_epochs=TOTAL_EPOCHS,  # Total epochs (will resume from where it left off)\n",
    "        per_device_train_batch_size=BATCH_SIZE,\n",
    "        per_device_eval_batch_size=BATCH_SIZE * 2,\n",
    "        gradient_accumulation_steps=GRADIENT_ACCUMULATION_STEPS,\n",
    "        learning_rate=LEARNING_RATE,\n",
    "        lr_scheduler_type=\"cosine\",\n",
    "        warmup_ratio=0.1,\n",
    "        optim=\"paged_adamw_8bit\",\n",
    "        fp16=not has_bf16_support,\n",
    "        bf16=has_bf16_support,\n",
    "        logging_dir=f\"{OUTPUT_DIR}/logs\",\n",
    "        logging_steps=25,\n",
    "        eval_strategy=\"epoch\",\n",
    "        save_strategy=\"epoch\",\n",
    "        save_total_limit=3,  # Keep more checkpoints during extended training\n",
    "        load_best_model_at_end=True,\n",
    "        metric_for_best_model=\"f1\",\n",
    "        greater_is_better=True,\n",
    "        report_to=\"none\",\n",
    "        remove_unused_columns=True,\n",
    "        dataloader_pin_memory=False,\n",
    "        push_to_hub=False,\n",
    "        resume_from_checkpoint=CHECKPOINT_PATH,  # Key parameter for resuming\n",
    "    )\n",
    "    \n",
    "    # Initialize trainer\n",
    "    print(\"🏋️ Initializing trainer for resume...\")\n",
    "    trainer = Trainer(\n",
    "        model=model,\n",
    "        args=training_args,\n",
    "        train_dataset=tokenized_train,\n",
    "        eval_dataset=tokenized_val,\n",
    "        compute_metrics=compute_metrics,\n",
    "    )\n",
    "    \n",
    "    print(f\"\\n🚀 TRAINING CONFIGURATION READY!\")\n",
    "    print(f\"   📊 Effective batch size: {BATCH_SIZE * GRADIENT_ACCUMULATION_STEPS}\")\n",
    "    print(f\"   📚 Learning rate: {LEARNING_RATE}\")\n",
    "    print(f\"   🔄 Target epochs: {TOTAL_EPOCHS} (resume from epoch {COMPLETED_EPOCHS})\")\n",
    "    print(f\"   🎯 Current best F1: 97.92% (target: improve further)\")\n",
    "    print(f\"   💾 Precision: {'BF16' if has_bf16_support else 'FP16'}\")\n",
    "else:\n",
    "    print(\"❌ Cannot setup training without model!\")"
   ]
  },
  {
   "cell_type": "markdown",
   "id": "257a1d86",
   "metadata": {},
   "source": [
    "## 🚀 Resume Training"
   ]
  },
  {
   "cell_type": "code",
   "execution_count": 16,
   "id": "f776bbd6",
   "metadata": {},
   "outputs": [
    {
     "name": "stdout",
     "output_type": "stream",
     "text": [
      "🚀 STARTING RESUMED TRAINING FROM CHECKPOINT!\n",
      "============================================================\n",
      "🔄 Attempting direct checkpoint resume...\n",
      "\n",
      "⚠️ Direct resume failed: loaded state dict contains a parameter group that doesn't match the size of optimizer's group\n",
      "🔄 Trying alternative approach: fresh training from loaded model...\n",
      "🚀 Starting fresh training from current model state...\n",
      "🎯 Training 2 additional epochs from current model state...\n",
      "📊 Model already trained for 3 epochs\n",
      "🚀 Starting additional training...\n",
      "\n",
      "⚠️ Direct resume failed: loaded state dict contains a parameter group that doesn't match the size of optimizer's group\n",
      "🔄 Trying alternative approach: fresh training from loaded model...\n",
      "🚀 Starting fresh training from current model state...\n",
      "🎯 Training 2 additional epochs from current model state...\n",
      "📊 Model already trained for 3 epochs\n",
      "🚀 Starting additional training...\n"
     ]
    },
    {
     "name": "stderr",
     "output_type": "stream",
     "text": [
      "c:\\Users\\zrhrissi\\Documents\\Phd models\\.venv\\Lib\\site-packages\\transformers\\modeling_utils.py:1742: FutureWarning: The `device` argument is deprecated and will be removed in v5 of Transformers.\n",
      "  warnings.warn(\n"
     ]
    },
    {
     "data": {
      "text/html": [
       "\n",
       "    <div>\n",
       "      \n",
       "      <progress value='3640' max='3640' style='width:300px; height:20px; vertical-align: middle;'></progress>\n",
       "      [3640/3640 1:12:25, Epoch 2/2]\n",
       "    </div>\n",
       "    <table border=\"1\" class=\"dataframe\">\n",
       "  <thead>\n",
       " <tr style=\"text-align: left;\">\n",
       "      <th>Epoch</th>\n",
       "      <th>Training Loss</th>\n",
       "      <th>Validation Loss</th>\n",
       "      <th>Accuracy</th>\n",
       "      <th>F1</th>\n",
       "      <th>Precision</th>\n",
       "      <th>Recall</th>\n",
       "    </tr>\n",
       "  </thead>\n",
       "  <tbody>\n",
       "    <tr>\n",
       "      <td>1</td>\n",
       "      <td>0.144200</td>\n",
       "      <td>0.119364</td>\n",
       "      <td>0.978980</td>\n",
       "      <td>0.979205</td>\n",
       "      <td>0.969128</td>\n",
       "      <td>0.989493</td>\n",
       "    </tr>\n",
       "    <tr>\n",
       "      <td>2</td>\n",
       "      <td>0.113000</td>\n",
       "      <td>0.115562</td>\n",
       "      <td>0.978671</td>\n",
       "      <td>0.978918</td>\n",
       "      <td>0.967976</td>\n",
       "      <td>0.990111</td>\n",
       "    </tr>\n",
       "  </tbody>\n",
       "</table><p>"
      ],
      "text/plain": [
       "<IPython.core.display.HTML object>"
      ]
     },
     "metadata": {},
     "output_type": "display_data"
    },
    {
     "name": "stderr",
     "output_type": "stream",
     "text": [
      "c:\\Users\\zrhrissi\\Documents\\Phd models\\.venv\\Lib\\site-packages\\transformers\\modeling_utils.py:1742: FutureWarning: The `device` argument is deprecated and will be removed in v5 of Transformers.\n",
      "  warnings.warn(\n"
     ]
    },
    {
     "name": "stdout",
     "output_type": "stream",
     "text": [
      "\n",
      "✅ FRESH TRAINING COMPLETED!\n",
      "\n",
      "🏁 TRAINING PHASE COMPLETED!\n",
      "📊 Training status: SUCCESS\n",
      "🎯 Ready for comprehensive evaluation: YES\n"
     ]
    }
   ],
   "source": [
    "# Start resumed training with proper checkpoint handling\n",
    "if model is not None and trainer is not None:\n",
    "    print(\"🚀 STARTING RESUMED TRAINING FROM CHECKPOINT!\")\n",
    "    print(\"=\" * 60)\n",
    "    \n",
    "    try:\n",
    "        # Method 1: Try direct resume (this may fail due to optimizer mismatch)\n",
    "        print(\"🔄 Attempting direct checkpoint resume...\")\n",
    "        trainer.train(resume_from_checkpoint=CHECKPOINT_PATH)\n",
    "        print(\"\\n✅ RESUMED TRAINING COMPLETED!\")\n",
    "        training_completed = True\n",
    "        \n",
    "    except Exception as e:\n",
    "        print(f\"\\n⚠️ Direct resume failed: {str(e)}\")\n",
    "        print(\"🔄 Trying alternative approach: fresh training from loaded model...\")\n",
    "        \n",
    "        try:\n",
    "            # Method 2: Fresh training from current epoch (no optimizer state)\n",
    "            print(\"🚀 Starting fresh training from current model state...\")\n",
    "            \n",
    "            # Remove the resume_from_checkpoint parameter and start fresh\n",
    "            training_args_fresh = TrainingArguments(\n",
    "                output_dir=OUTPUT_DIR,\n",
    "                num_train_epochs=REMAINING_EPOCHS,  # Only train the remaining epochs\n",
    "                per_device_train_batch_size=BATCH_SIZE,\n",
    "                per_device_eval_batch_size=BATCH_SIZE * 2,\n",
    "                gradient_accumulation_steps=GRADIENT_ACCUMULATION_STEPS,\n",
    "                learning_rate=LEARNING_RATE,\n",
    "                lr_scheduler_type=\"cosine\",\n",
    "                warmup_ratio=0.1,\n",
    "                optim=\"paged_adamw_8bit\",\n",
    "                fp16=not has_bf16_support,\n",
    "                bf16=has_bf16_support,\n",
    "                logging_dir=f\"{OUTPUT_DIR}/logs\",\n",
    "                logging_steps=25,\n",
    "                eval_strategy=\"epoch\",\n",
    "                save_strategy=\"epoch\",\n",
    "                save_total_limit=5,\n",
    "                load_best_model_at_end=True,\n",
    "                metric_for_best_model=\"f1\",\n",
    "                greater_is_better=True,\n",
    "                report_to=\"none\",\n",
    "                remove_unused_columns=True,\n",
    "                dataloader_pin_memory=False,\n",
    "                push_to_hub=False,\n",
    "                # No resume_from_checkpoint - start fresh with current model weights\n",
    "            )\n",
    "            \n",
    "            # Create new trainer with fresh optimizer\n",
    "            trainer_fresh = Trainer(\n",
    "                model=model,\n",
    "                args=training_args_fresh,\n",
    "                train_dataset=tokenized_train,\n",
    "                eval_dataset=tokenized_val,\n",
    "                compute_metrics=compute_metrics,\n",
    "            )\n",
    "            \n",
    "            print(f\"🎯 Training {REMAINING_EPOCHS} additional epochs from current model state...\")\n",
    "            print(f\"📊 Model already trained for {COMPLETED_EPOCHS} epochs\")\n",
    "            print(f\"🚀 Starting additional training...\")\n",
    "            \n",
    "            # Train the remaining epochs\n",
    "            trainer_fresh.train()\n",
    "            \n",
    "            # Update the trainer reference for evaluation\n",
    "            trainer = trainer_fresh\n",
    "            \n",
    "            print(\"\\n✅ FRESH TRAINING COMPLETED!\")\n",
    "            training_completed = True\n",
    "            \n",
    "        except Exception as e2:\n",
    "            print(f\"\\n❌ Fresh training also failed: {str(e2)}\")\n",
    "            print(\"🔍 Trying method 3: Training from scratch with current model...\")\n",
    "            \n",
    "            try:\n",
    "                # Method 3: Evaluate current model and train if needed\n",
    "                print(\"📊 First, let's evaluate the current model performance...\")\n",
    "                \n",
    "                # Quick evaluation to see current performance\n",
    "                eval_results = trainer.evaluate(tokenized_val)\n",
    "                current_f1 = eval_results.get('eval_f1', 0.0)\n",
    "                \n",
    "                print(f\"📈 Current validation F1: {current_f1:.4f} ({current_f1*100:.2f}%)\")\n",
    "                \n",
    "                if current_f1 >= 0.975:  # If already very good (97.5%+)\n",
    "                    print(\"🏆 Model already performs excellently! Proceeding to final evaluation...\")\n",
    "                    training_completed = True\n",
    "                else:\n",
    "                    print(\"🔄 Model can be improved. Starting minimal additional training...\")\n",
    "                    \n",
    "                    # Very conservative training approach\n",
    "                    minimal_args = TrainingArguments(\n",
    "                        output_dir=f\"{OUTPUT_DIR}_continued\",\n",
    "                        num_train_epochs=1,  # Just 1 additional epoch\n",
    "                        per_device_train_batch_size=BATCH_SIZE,\n",
    "                        per_device_eval_batch_size=BATCH_SIZE * 2,\n",
    "                        gradient_accumulation_steps=GRADIENT_ACCUMULATION_STEPS,\n",
    "                        learning_rate=LEARNING_RATE * 0.5,  # Lower learning rate\n",
    "                        lr_scheduler_type=\"cosine\",\n",
    "                        warmup_ratio=0.05,  # Less warmup\n",
    "                        optim=\"paged_adamw_8bit\",\n",
    "                        fp16=not has_bf16_support,\n",
    "                        bf16=has_bf16_support,\n",
    "                        logging_steps=50,\n",
    "                        eval_strategy=\"steps\",\n",
    "                        eval_steps=100,\n",
    "                        save_strategy=\"steps\",\n",
    "                        save_steps=100,\n",
    "                        save_total_limit=2,\n",
    "                        load_best_model_at_end=True,\n",
    "                        metric_for_best_model=\"f1\",\n",
    "                        greater_is_better=True,\n",
    "                        report_to=\"none\",\n",
    "                        dataloader_pin_memory=False,\n",
    "                    )\n",
    "                    \n",
    "                    trainer_minimal = Trainer(\n",
    "                        model=model,\n",
    "                        args=minimal_args,\n",
    "                        train_dataset=tokenized_train,\n",
    "                        eval_dataset=tokenized_val,\n",
    "                        compute_metrics=compute_metrics,\n",
    "                    )\n",
    "                    \n",
    "                    trainer_minimal.train()\n",
    "                    trainer = trainer_minimal\n",
    "                    training_completed = True\n",
    "                    print(\"✅ MINIMAL ADDITIONAL TRAINING COMPLETED!\")\n",
    "                \n",
    "            except Exception as e3:\n",
    "                print(f\"\\n❌ All training methods failed: {str(e3)}\")\n",
    "                print(\"📊 Proceeding with current model for evaluation...\")\n",
    "                training_completed = True  # Use current model as-is\n",
    "        \n",
    "else:\n",
    "    print(\"❌ Cannot start training - model or trainer not ready!\")\n",
    "    training_completed = False\n",
    "\n",
    "print(f\"\\n🏁 TRAINING PHASE COMPLETED!\")\n",
    "print(f\"📊 Training status: {'SUCCESS' if training_completed else 'FAILED'}\")\n",
    "print(f\"🎯 Ready for comprehensive evaluation: {'YES' if training_completed else 'NO'}\")"
   ]
  },
  {
   "cell_type": "markdown",
   "id": "024ad540",
   "metadata": {},
   "source": [
    "## 📊 Comprehensive Evaluation Functions\n",
    "\n",
    "Let's define all the evaluation functions we'll need for comprehensive analysis."
   ]
  },
  {
   "cell_type": "code",
   "execution_count": 17,
   "id": "010f329f",
   "metadata": {},
   "outputs": [
    {
     "name": "stdout",
     "output_type": "stream",
     "text": [
      "✅ Evaluation functions defined successfully!\n"
     ]
    }
   ],
   "source": [
    "def plot_confusion_matrix(y_true, y_pred, model_name=\"Stella\", save_path=None):\n",
    "    \"\"\"Plot and save confusion matrix.\"\"\"\n",
    "    cm = confusion_matrix(y_true, y_pred)\n",
    "    \n",
    "    plt.figure(figsize=(8, 6))\n",
    "    sns.heatmap(cm, annot=True, fmt='d', cmap='Blues', \n",
    "                xticklabels=['Negative', 'Positive'],\n",
    "                yticklabels=['Negative', 'Positive'])\n",
    "    plt.title(f'{model_name} - Confusion Matrix (5 Epochs)')\n",
    "    plt.xlabel('Predicted Label')\n",
    "    plt.ylabel('True Label')\n",
    "    \n",
    "    if save_path:\n",
    "        plt.savefig(save_path, dpi=300, bbox_inches='tight')\n",
    "        print(f\"📊 Confusion matrix saved to: {save_path}\")\n",
    "    \n",
    "    plt.tight_layout()\n",
    "    plt.show()\n",
    "    \n",
    "    return cm\n",
    "\n",
    "def plot_roc_curve(y_true, y_proba, model_name=\"Stella\", save_path=None):\n",
    "    \"\"\"Plot ROC curve.\"\"\"\n",
    "    fpr, tpr, _ = roc_curve(y_true, y_proba)\n",
    "    roc_auc = roc_auc_score(y_true, y_proba)\n",
    "    \n",
    "    plt.figure(figsize=(8, 6))\n",
    "    plt.plot(fpr, tpr, color='darkorange', lw=2, \n",
    "             label=f'ROC curve (AUC = {roc_auc:.4f})')\n",
    "    plt.plot([0, 1], [0, 1], color='navy', lw=2, linestyle='--')\n",
    "    plt.xlim([0.0, 1.0])\n",
    "    plt.ylim([0.0, 1.05])\n",
    "    plt.xlabel('False Positive Rate')\n",
    "    plt.ylabel('True Positive Rate')\n",
    "    plt.title(f'{model_name} - ROC Curve (5 Epochs)')\n",
    "    plt.legend(loc=\"lower right\")\n",
    "    plt.grid(True, alpha=0.3)\n",
    "    \n",
    "    if save_path:\n",
    "        plt.savefig(save_path, dpi=300, bbox_inches='tight')\n",
    "        print(f\"📈 ROC curve saved to: {save_path}\")\n",
    "    \n",
    "    plt.tight_layout()\n",
    "    plt.show()\n",
    "    \n",
    "    return roc_auc\n",
    "\n",
    "def plot_precision_recall_curve(y_true, y_proba, model_name=\"Stella\", save_path=None):\n",
    "    \"\"\"Plot Precision-Recall curve.\"\"\"\n",
    "    precision, recall, _ = precision_recall_curve(y_true, y_proba)\n",
    "    avg_precision = average_precision_score(y_true, y_proba)\n",
    "    \n",
    "    plt.figure(figsize=(8, 6))\n",
    "    plt.plot(recall, precision, color='blue', lw=2,\n",
    "             label=f'PR curve (AP = {avg_precision:.4f})')\n",
    "    plt.xlabel('Recall')\n",
    "    plt.ylabel('Precision')\n",
    "    plt.title(f'{model_name} - Precision-Recall Curve (5 Epochs)')\n",
    "    plt.legend(loc=\"lower left\")\n",
    "    plt.grid(True, alpha=0.3)\n",
    "    \n",
    "    if save_path:\n",
    "        plt.savefig(save_path, dpi=300, bbox_inches='tight')\n",
    "        print(f\"📊 PR curve saved to: {save_path}\")\n",
    "    \n",
    "    plt.tight_layout()\n",
    "    plt.show()\n",
    "    \n",
    "    return avg_precision\n",
    "\n",
    "print(\"✅ Evaluation functions defined successfully!\")"
   ]
  },
  {
   "cell_type": "code",
   "execution_count": 18,
   "id": "fb6f9007",
   "metadata": {},
   "outputs": [
    {
     "name": "stdout",
     "output_type": "stream",
     "text": [
      "✅ Comprehensive report function defined!\n"
     ]
    }
   ],
   "source": [
    "def generate_comprehensive_report(y_true, y_pred, y_proba, model_name=\"Stella\", epoch=5):\n",
    "    \"\"\"Generate comprehensive evaluation report.\"\"\"\n",
    "    print(f\"\\n🔍 COMPREHENSIVE EVALUATION REPORT - {model_name} ({epoch} Epochs)\")\n",
    "    print(\"=\" * 80)\n",
    "    \n",
    "    # Basic metrics\n",
    "    accuracy = accuracy_score(y_true, y_pred)\n",
    "    precision, recall, f1, support = precision_recall_fscore_support(y_true, y_pred, average=None)\n",
    "    precision_avg, recall_avg, f1_avg, _ = precision_recall_fscore_support(y_true, y_pred, average='binary')\n",
    "    \n",
    "    # Advanced metrics\n",
    "    roc_auc = roc_auc_score(y_true, y_proba)\n",
    "    avg_precision = average_precision_score(y_true, y_proba)\n",
    "    \n",
    "    # Confusion matrix\n",
    "    cm = confusion_matrix(y_true, y_pred)\n",
    "    tn, fp, fn, tp = cm.ravel()\n",
    "    \n",
    "    # Specificity and sensitivity\n",
    "    specificity = tn / (tn + fp) if (tn + fp) > 0 else 0\n",
    "    sensitivity = tp / (tp + fn) if (tp + fn) > 0 else 0\n",
    "    \n",
    "    print(\"📊 OVERALL PERFORMANCE METRICS:\")\n",
    "    print(f\"   • Accuracy:           {accuracy:.4f} ({accuracy*100:.2f}%)\")\n",
    "    print(f\"   • F1-Score (Binary):  {f1_avg:.4f} ({f1_avg*100:.2f}%)\")\n",
    "    print(f\"   • Precision (Binary): {precision_avg:.4f} ({precision_avg*100:.2f}%)\")\n",
    "    print(f\"   • Recall (Binary):    {recall_avg:.4f} ({recall_avg*100:.2f}%)\")\n",
    "    print(f\"   • ROC AUC:            {roc_auc:.4f} ({roc_auc*100:.2f}%)\")\n",
    "    print(f\"   • Average Precision:  {avg_precision:.4f} ({avg_precision*100:.2f}%)\")\n",
    "    \n",
    "    print(\"\\n🎯 CLASS-WISE PERFORMANCE:\")\n",
    "    print(f\"   📋 Class 0 (Negative):\")\n",
    "    print(f\"      - Precision: {precision[0]:.4f} ({precision[0]*100:.2f}%)\")\n",
    "    print(f\"      - Recall:    {recall[0]:.4f} ({recall[0]*100:.2f}%)\")\n",
    "    print(f\"      - F1-Score:  {f1[0]:.4f} ({f1[0]*100:.2f}%)\")\n",
    "    print(f\"      - Support:   {support[0]} samples\")\n",
    "    \n",
    "    print(f\"   📋 Class 1 (Positive):\")\n",
    "    print(f\"      - Precision: {precision[1]:.4f} ({precision[1]*100:.2f}%)\")\n",
    "    print(f\"      - Recall:    {recall[1]:.4f} ({recall[1]*100:.2f}%)\")\n",
    "    print(f\"      - F1-Score:  {f1[1]:.4f} ({f1[1]*100:.2f}%)\")\n",
    "    print(f\"      - Support:   {support[1]} samples\")\n",
    "    \n",
    "    print(\"\\n🔢 CONFUSION MATRIX ANALYSIS:\")\n",
    "    print(f\"   📊 Confusion Matrix:\")\n",
    "    print(f\"      [[{tn:4d}, {fp:4d}]  <- [TN, FP]\")\n",
    "    print(f\"       [{fn:4d}, {tp:4d}]] <- [FN, TP]\")\n",
    "    \n",
    "    print(f\"   📈 Detailed Breakdown:\")\n",
    "    total_samples = tn + fp + fn + tp\n",
    "    print(f\"      • True Negatives:  {tn:4d} ({tn/total_samples*100:.1f}%)\")\n",
    "    print(f\"      • False Positives: {fp:4d} ({fp/total_samples*100:.1f}%)\")\n",
    "    print(f\"      • False Negatives: {fn:4d} ({fn/total_samples*100:.1f}%)\")\n",
    "    print(f\"      • True Positives:  {tp:4d} ({tp/total_samples*100:.1f}%)\")\n",
    "    \n",
    "    print(f\"   🎯 Additional Metrics:\")\n",
    "    print(f\"      • Specificity (TNR): {specificity:.4f} ({specificity*100:.2f}%)\")\n",
    "    print(f\"      • Sensitivity (TPR): {sensitivity:.4f} ({sensitivity*100:.2f}%)\")\n",
    "    print(f\"      • False Positive Rate: {fp/(fp+tn):.4f} ({fp/(fp+tn)*100:.2f}%)\")\n",
    "    print(f\"      • False Negative Rate: {fn/(fn+tp):.4f} ({fn/(fn+tp)*100:.2f}%)\")\n",
    "    \n",
    "    return {\n",
    "        'accuracy': accuracy,\n",
    "        'f1_score': f1_avg,\n",
    "        'precision': precision_avg,\n",
    "        'recall': recall_avg,\n",
    "        'roc_auc': roc_auc,\n",
    "        'average_precision': avg_precision,\n",
    "        'confusion_matrix': cm,\n",
    "        'specificity': specificity,\n",
    "        'sensitivity': sensitivity,\n",
    "        'class_wise_metrics': {\n",
    "            'class_0': {'precision': precision[0], 'recall': recall[0], 'f1': f1[0], 'support': support[0]},\n",
    "            'class_1': {'precision': precision[1], 'recall': recall[1], 'f1': f1[1], 'support': support[1]}\n",
    "        }\n",
    "    }\n",
    "\n",
    "print(\"✅ Comprehensive report function defined!\")"
   ]
  },
  {
   "cell_type": "markdown",
   "id": "3359bf49",
   "metadata": {},
   "source": [
    "## 🔍 Final Comprehensive Evaluation\n",
    "\n",
    "Now let's perform the comprehensive evaluation with all metrics, confusion matrix, and visualizations."
   ]
  },
  {
   "cell_type": "code",
   "execution_count": 19,
   "id": "5700a056",
   "metadata": {},
   "outputs": [
    {
     "name": "stdout",
     "output_type": "stream",
     "text": [
      "🧪 COMPREHENSIVE FINAL EVALUATION...\n",
      "============================================================\n"
     ]
    },
    {
     "name": "stderr",
     "output_type": "stream",
     "text": [
      "c:\\Users\\zrhrissi\\Documents\\Phd models\\.venv\\Lib\\site-packages\\transformers\\modeling_utils.py:1742: FutureWarning: The `device` argument is deprecated and will be removed in v5 of Transformers.\n",
      "  warnings.warn(\n"
     ]
    },
    {
     "data": {
      "text/html": [],
      "text/plain": [
       "<IPython.core.display.HTML object>"
      ]
     },
     "metadata": {},
     "output_type": "display_data"
    },
    {
     "name": "stdout",
     "output_type": "stream",
     "text": [
      "✅ Predictions obtained:\n",
      "   📊 Test samples: 8087\n",
      "   🎯 Predictions shape: (8087,)\n",
      "   📈 Probabilities shape: (8087,)\n"
     ]
    }
   ],
   "source": [
    "# Perform comprehensive evaluation only if training completed successfully\n",
    "if training_completed and trainer is not None:\n",
    "    print(\"🧪 COMPREHENSIVE FINAL EVALUATION...\")\n",
    "    print(\"=\" * 60)\n",
    "    \n",
    "    # Get predictions\n",
    "    test_results = trainer.predict(tokenized_test)\n",
    "    y_pred = np.argmax(test_results.predictions, axis=1)\n",
    "    y_true = test_results.label_ids\n",
    "    \n",
    "    # Get probabilities for positive class (for ROC/PR curves)\n",
    "    y_proba = torch.softmax(torch.tensor(test_results.predictions), dim=1)[:, 1].numpy()\n",
    "    \n",
    "    print(f\"✅ Predictions obtained:\")\n",
    "    print(f\"   📊 Test samples: {len(y_true)}\")\n",
    "    print(f\"   🎯 Predictions shape: {y_pred.shape}\")\n",
    "    print(f\"   📈 Probabilities shape: {y_proba.shape}\")\n",
    "    \n",
    "else:\n",
    "    print(\"❌ Cannot perform evaluation - training not completed or trainer not available!\")"
   ]
  },
  {
   "cell_type": "code",
   "execution_count": 20,
   "id": "cb6f7647",
   "metadata": {},
   "outputs": [
    {
     "name": "stdout",
     "output_type": "stream",
     "text": [
      "\n",
      "🔍 COMPREHENSIVE EVALUATION REPORT - Stella QLoRA (5 Epochs)\n",
      "================================================================================\n",
      "📊 OVERALL PERFORMANCE METRICS:\n",
      "   • Accuracy:           0.9802 (98.02%)\n",
      "   • F1-Score (Binary):  0.9804 (98.04%)\n",
      "   • Precision (Binary): 0.9704 (97.04%)\n",
      "   • Recall (Binary):    0.9906 (99.06%)\n",
      "   • ROC AUC:            0.9986 (99.86%)\n",
      "   • Average Precision:  0.9987 (99.87%)\n",
      "\n",
      "🎯 CLASS-WISE PERFORMANCE:\n",
      "   📋 Class 0 (Negative):\n",
      "      - Precision: 0.9904 (99.04%)\n",
      "      - Recall:    0.9698 (96.98%)\n",
      "      - F1-Score:  0.9800 (98.00%)\n",
      "      - Support:   4044 samples\n",
      "   📋 Class 1 (Positive):\n",
      "      - Precision: 0.9704 (97.04%)\n",
      "      - Recall:    0.9906 (99.06%)\n",
      "      - F1-Score:  0.9804 (98.04%)\n",
      "      - Support:   4043 samples\n",
      "\n",
      "🔢 CONFUSION MATRIX ANALYSIS:\n",
      "   📊 Confusion Matrix:\n",
      "      [[3922,  122]  <- [TN, FP]\n",
      "       [  38, 4005]] <- [FN, TP]\n",
      "   📈 Detailed Breakdown:\n",
      "      • True Negatives:  3922 (48.5%)\n",
      "      • False Positives:  122 (1.5%)\n",
      "      • False Negatives:   38 (0.5%)\n",
      "      • True Positives:  4005 (49.5%)\n",
      "   🎯 Additional Metrics:\n",
      "      • Specificity (TNR): 0.9698 (96.98%)\n",
      "      • Sensitivity (TPR): 0.9906 (99.06%)\n",
      "      • False Positive Rate: 0.0302 (3.02%)\n",
      "      • False Negative Rate: 0.0094 (0.94%)\n",
      "\n",
      "📁 Output directory created: ../outputs/stella_5_epochs\n"
     ]
    }
   ],
   "source": [
    "# Generate comprehensive evaluation report\n",
    "if training_completed:\n",
    "    detailed_results = generate_comprehensive_report(\n",
    "        y_true, y_pred, y_proba, model_name=\"Stella QLoRA\", epoch=5\n",
    "    )\n",
    "    \n",
    "    # Create output directory for plots and results\n",
    "    output_dir = \"../outputs/stella_5_epochs\"\n",
    "    os.makedirs(output_dir, exist_ok=True)\n",
    "    print(f\"\\n📁 Output directory created: {output_dir}\")\n",
    "else:\n",
    "    print(\"❌ Skipping comprehensive report - training not completed!\")"
   ]
  },
  {
   "cell_type": "markdown",
   "id": "ef4f6419",
   "metadata": {},
   "source": [
    "## 📊 Confusion Matrix Visualization"
   ]
  },
  {
   "cell_type": "code",
   "execution_count": 21,
   "id": "f08536ab",
   "metadata": {},
   "outputs": [
    {
     "name": "stdout",
     "output_type": "stream",
     "text": [
      "📊 GENERATING CONFUSION MATRIX...\n",
      "📊 Confusion matrix saved to: ../outputs/stella_5_epochs\\stella_5epochs_confusion_matrix.png\n",
      "📊 Confusion matrix saved to: ../outputs/stella_5_epochs\\stella_5epochs_confusion_matrix.png\n"
     ]
    },
    {
     "data": {
      "image/png": "[encoded data removed]",
      "text/plain": [
       "<Figure size 800x600 with 2 Axes>"
      ]
     },
     "metadata": {},
     "output_type": "display_data"
    }
   ],
   "source": [
    "# Plot confusion matrix\n",
    "if training_completed:\n",
    "    print(\"📊 GENERATING CONFUSION MATRIX...\")\n",
    "    cm_path = os.path.join(output_dir, \"stella_5epochs_confusion_matrix.png\")\n",
    "    cm = plot_confusion_matrix(y_true, y_pred, \"Stella QLoRA (5 Epochs)\", cm_path)\n",
    "else:\n",
    "    print(\"❌ Skipping confusion matrix - training not completed!\")"
   ]
  },
  {
   "cell_type": "markdown",
   "id": "9e8f8425",
   "metadata": {},
   "source": [
    "## 📈 ROC Curve Analysis"
   ]
  },
  {
   "cell_type": "code",
   "execution_count": 22,
   "id": "c68a3dff",
   "metadata": {},
   "outputs": [
    {
     "name": "stdout",
     "output_type": "stream",
     "text": [
      "📈 GENERATING ROC CURVE...\n",
      "📈 ROC curve saved to: ../outputs/stella_5_epochs\\stella_5epochs_roc_curve.png\n"
     ]
    },
    {
     "data": {
      "image/png": "[encoded data removed]",
      "text/plain": [
       "<Figure size 800x600 with 1 Axes>"
      ]
     },
     "metadata": {},
     "output_type": "display_data"
    }
   ],
   "source": [
    "# Plot ROC curve\n",
    "if training_completed:\n",
    "    print(\"📈 GENERATING ROC CURVE...\")\n",
    "    roc_path = os.path.join(output_dir, \"stella_5epochs_roc_curve.png\")\n",
    "    roc_auc = plot_roc_curve(y_true, y_proba, \"Stella QLoRA (5 Epochs)\", roc_path)\n",
    "else:\n",
    "    print(\"❌ Skipping ROC curve - training not completed!\")"
   ]
  },
  {
   "cell_type": "markdown",
   "id": "00880773",
   "metadata": {},
   "source": [
    "## 📊 Precision-Recall Curve"
   ]
  },
  {
   "cell_type": "code",
   "execution_count": 23,
   "id": "03449ee0",
   "metadata": {},
   "outputs": [
    {
     "name": "stdout",
     "output_type": "stream",
     "text": [
      "📊 GENERATING PRECISION-RECALL CURVE...\n",
      "📊 PR curve saved to: ../outputs/stella_5_epochs\\stella_5epochs_pr_curve.png\n"
     ]
    },
    {
     "data": {
      "image/png": "[encoded data removed]",
      "text/plain": [
       "<Figure size 800x600 with 1 Axes>"
      ]
     },
     "metadata": {},
     "output_type": "display_data"
    }
   ],
   "source": [
    "# Plot Precision-Recall curve\n",
    "if training_completed:\n",
    "    print(\"📊 GENERATING PRECISION-RECALL CURVE...\")\n",
    "    pr_path = os.path.join(output_dir, \"stella_5epochs_pr_curve.png\")\n",
    "    avg_precision = plot_precision_recall_curve(y_true, y_proba, \"Stella QLoRA (5 Epochs)\", pr_path)\n",
    "else:\n",
    "    print(\"❌ Skipping PR curve - training not completed!\")"
   ]
  },
  {
   "cell_type": "markdown",
   "id": "daebf2f6",
   "metadata": {},
   "source": [
    "## 📋 Detailed Classification Report"
   ]
  },
  {
   "cell_type": "code",
   "execution_count": 24,
   "id": "da8549ff",
   "metadata": {},
   "outputs": [
    {
     "name": "stdout",
     "output_type": "stream",
     "text": [
      "📋 DETAILED CLASSIFICATION REPORT:\n",
      "==================================================\n",
      "              precision    recall  f1-score   support\n",
      "\n",
      "    Negative       0.99      0.97      0.98      4044\n",
      "    Positive       0.97      0.99      0.98      4043\n",
      "\n",
      "    accuracy                           0.98      8087\n",
      "   macro avg       0.98      0.98      0.98      8087\n",
      "weighted avg       0.98      0.98      0.98      8087\n",
      "\n"
     ]
    }
   ],
   "source": [
    "# Generate classification report\n",
    "if training_completed:\n",
    "    print(f\"📋 DETAILED CLASSIFICATION REPORT:\")\n",
    "    print(\"=\" * 50)\n",
    "    print(classification_report(y_true, y_pred, target_names=['Negative', 'Positive']))\n",
    "else:\n",
    "    print(\"❌ Skipping classification report - training not completed!\")"
   ]
  },
  {
   "cell_type": "markdown",
   "id": "864f5893",
   "metadata": {},
   "source": [
    "## 🏆 Final Results Summary and Comparison"
   ]
  },
  {
   "cell_type": "code",
   "execution_count": 25,
   "id": "137b7970",
   "metadata": {},
   "outputs": [
    {
     "name": "stdout",
     "output_type": "stream",
     "text": [
      "🏆 FINAL RESULTS SUMMARY (5 EPOCHS):\n",
      "============================================================\n",
      "📊 Test Accuracy: 0.9802 (98.02%)\n",
      "🎯 Test F1-Score: 0.9804 (98.04%)\n",
      "⚡ Test Precision: 0.9704 (97.04%)\n",
      "🔍 Test Recall: 0.9906 (99.06%)\n",
      "📈 ROC AUC: 0.9986 (99.86%)\n",
      "🎯 Average Precision: 0.9987 (99.87%)\n",
      "\n",
      "📈 IMPROVEMENT ANALYSIS:\n",
      "========================================\n",
      "   🏅 Previous best (3 epochs): 0.9792 (97.92%)\n",
      "   🚀 Current result (5 epochs): 0.9804 (98.04%)\n",
      "   📊 Improvement: +0.0012 (+0.12%)\n",
      "   ✅ Significant improvement with additional training!\n",
      "\n",
      "📋 FILES GENERATED:\n",
      "==============================\n",
      "   📊 Confusion Matrix: ../outputs/stella_5_epochs\\stella_5epochs_confusion_matrix.png\n",
      "   📈 ROC Curve: ../outputs/stella_5_epochs\\stella_5epochs_roc_curve.png\n",
      "   📊 PR Curve: ../outputs/stella_5_epochs\\stella_5epochs_pr_curve.png\n"
     ]
    }
   ],
   "source": [
    "# Final results summary and comparison\n",
    "if training_completed:\n",
    "    # Extract key metrics\n",
    "    final_accuracy = detailed_results['accuracy']\n",
    "    f1 = detailed_results['f1_score']\n",
    "    precision = detailed_results['precision']\n",
    "    recall = detailed_results['recall']\n",
    "    \n",
    "    print(\"🏆 FINAL RESULTS SUMMARY (5 EPOCHS):\")\n",
    "    print(\"=\" * 60)\n",
    "    print(f\"📊 Test Accuracy: {final_accuracy:.4f} ({final_accuracy*100:.2f}%)\")\n",
    "    print(f\"🎯 Test F1-Score: {f1:.4f} ({f1*100:.2f}%)\")\n",
    "    print(f\"⚡ Test Precision: {precision:.4f} ({precision*100:.2f}%)\")\n",
    "    print(f\"🔍 Test Recall: {recall:.4f} ({recall*100:.2f}%)\")\n",
    "    print(f\"📈 ROC AUC: {roc_auc:.4f} ({roc_auc*100:.2f}%)\")\n",
    "    print(f\"🎯 Average Precision: {avg_precision:.4f} ({avg_precision*100:.2f}%)\")\n",
    "    \n",
    "    # Compare with previous best (3 epochs)\n",
    "    previous_best = 0.9792\n",
    "    improvement = f1 - previous_best\n",
    "    \n",
    "    print(f\"\\n📈 IMPROVEMENT ANALYSIS:\")\n",
    "    print(\"=\" * 40)\n",
    "    print(f\"   🏅 Previous best (3 epochs): {previous_best:.4f} (97.92%)\")\n",
    "    print(f\"   🚀 Current result (5 epochs): {f1:.4f} ({f1*100:.2f}%)\")\n",
    "    print(f\"   📊 Improvement: {improvement:+.4f} ({improvement*100:+.2f}%)\")\n",
    "    \n",
    "    if improvement > 0.001:  # More than 0.1% improvement\n",
    "        print(\"   ✅ Significant improvement with additional training!\")\n",
    "        performance_status = \"IMPROVED\"\n",
    "    elif improvement > -0.001:  # Within 0.1% margin\n",
    "        print(\"   ⚖️ Performance maintained (within margin of error)\")\n",
    "        performance_status = \"MAINTAINED\"\n",
    "    else:\n",
    "        print(\"   ⚠️ Performance decreased - consider early stopping for future training\")\n",
    "        performance_status = \"DECREASED\"\n",
    "        \n",
    "    print(f\"\\n📋 FILES GENERATED:\")\n",
    "    print(\"=\" * 30)\n",
    "    print(f\"   📊 Confusion Matrix: {cm_path}\")\n",
    "    print(f\"   📈 ROC Curve: {roc_path}\")\n",
    "    print(f\"   📊 PR Curve: {pr_path}\")\n",
    "    \n",
    "else:\n",
    "    print(\"❌ Cannot generate final summary - training not completed!\")"
   ]
  },
  {
   "cell_type": "markdown",
   "id": "0c773213",
   "metadata": {},
   "source": [
    "## 💾 Save Results to Files"
   ]
  },
  {
   "cell_type": "code",
   "execution_count": null,
   "id": "a6ba1df3",
   "metadata": {},
   "outputs": [
    {
     "name": "stdout",
     "output_type": "stream",
     "text": [
      "💾 SAVING COMPREHENSIVE RESULTS...\n"
     ]
    },
    {
     "ename": "UnicodeEncodeError",
     "evalue": "'charmap' codec can't encode character '\\U0001f680' in position 0: character maps to <undefined>",
     "output_type": "error",
     "traceback": [
      "\u001b[31m---------------------------------------------------------------------------\u001b[39m",
      "\u001b[31mUnicodeEncodeError\u001b[39m                        Traceback (most recent call last)",
      "\u001b[36mCell\u001b[39m\u001b[36m \u001b[39m\u001b[32mIn[26]\u001b[39m\u001b[32m, line 9\u001b[39m\n\u001b[32m      6\u001b[39m results_file = os.path.join(output_dir, \u001b[33m\"\u001b[39m\u001b[33mstella_qlora_5_epochs_detailed_results.txt\u001b[39m\u001b[33m\"\u001b[39m)\n\u001b[32m      8\u001b[39m \u001b[38;5;28;01mwith\u001b[39;00m \u001b[38;5;28mopen\u001b[39m(results_file, \u001b[33m'\u001b[39m\u001b[33mw\u001b[39m\u001b[33m'\u001b[39m) \u001b[38;5;28;01mas\u001b[39;00m f:\n\u001b[32m----> \u001b[39m\u001b[32m9\u001b[39m     \u001b[43mf\u001b[49m\u001b[43m.\u001b[49m\u001b[43mwrite\u001b[49m\u001b[43m(\u001b[49m\u001b[33;43mf\u001b[39;49m\u001b[33;43m\"\u001b[39;49m\u001b[33;43m🚀 Stella QLoRA Fine-tuning Results (5 Epochs)\u001b[39;49m\u001b[38;5;130;43;01m\\n\u001b[39;49;00m\u001b[33;43m\"\u001b[39;49m\u001b[43m)\u001b[49m\n\u001b[32m     10\u001b[39m     f.write(\u001b[33m\"\u001b[39m\u001b[33m=\u001b[39m\u001b[33m\"\u001b[39m * \u001b[32m80\u001b[39m + \u001b[33m\"\u001b[39m\u001b[38;5;130;01m\\n\u001b[39;00m\u001b[38;5;130;01m\\n\u001b[39;00m\u001b[33m\"\u001b[39m)\n\u001b[32m     12\u001b[39m     f.write(\u001b[33m\"\u001b[39m\u001b[33m📊 OVERALL PERFORMANCE METRICS:\u001b[39m\u001b[38;5;130;01m\\n\u001b[39;00m\u001b[33m\"\u001b[39m)\n",
      "\u001b[36mFile \u001b[39m\u001b[32m~\\AppData\\Local\\Programs\\Python\\Python313\\Lib\\encodings\\cp1252.py:19\u001b[39m, in \u001b[36mIncrementalEncoder.encode\u001b[39m\u001b[34m(self, input, final)\u001b[39m\n\u001b[32m     18\u001b[39m \u001b[38;5;28;01mdef\u001b[39;00m\u001b[38;5;250m \u001b[39m\u001b[34mencode\u001b[39m(\u001b[38;5;28mself\u001b[39m, \u001b[38;5;28minput\u001b[39m, final=\u001b[38;5;28;01mFalse\u001b[39;00m):\n\u001b[32m---> \u001b[39m\u001b[32m19\u001b[39m     \u001b[38;5;28;01mreturn\u001b[39;00m \u001b[43mcodecs\u001b[49m\u001b[43m.\u001b[49m\u001b[43mcharmap_encode\u001b[49m\u001b[43m(\u001b[49m\u001b[38;5;28;43minput\u001b[39;49m\u001b[43m,\u001b[49m\u001b[38;5;28;43mself\u001b[39;49m\u001b[43m.\u001b[49m\u001b[43merrors\u001b[49m\u001b[43m,\u001b[49m\u001b[43mencoding_table\u001b[49m\u001b[43m)\u001b[49m[\u001b[32m0\u001b[39m]\n",
      "\u001b[31mUnicodeEncodeError\u001b[39m: 'charmap' codec can't encode character '\\U0001f680' in position 0: character maps to <undefined>"
     ]
    }
   ],
   "source": [
    "# Save comprehensive results to files\n",
    "if training_completed:\n",
    "    print(\"💾 SAVING COMPREHENSIVE RESULTS...\")\n",
    "    \n",
    "    # Save detailed results as text with UTF-8 encoding\n",
    "    results_file = os.path.join(output_dir, \"stella_qlora_5_epochs_detailed_results.txt\")\n",
    "    \n",
    "    with open(results_file, 'w', encoding='utf-8') as f:\n",
    "        f.write(f\"🚀 Stella QLoRA Fine-tuning Results (5 Epochs)\\n\")\n",
    "        f.write(\"=\" * 80 + \"\\n\\n\")\n",
    "        \n",
    "        f.write(\"📊 OVERALL PERFORMANCE METRICS:\\n\")\n",
    "        f.write(f\"   • Accuracy:           {detailed_results['accuracy']:.4f} ({detailed_results['accuracy']*100:.2f}%)\\n\")\n",
    "        f.write(f\"   • F1-Score (Binary):  {detailed_results['f1_score']:.4f} ({detailed_results['f1_score']*100:.2f}%)\\n\")\n",
    "        f.write(f\"   • Precision (Binary): {detailed_results['precision']:.4f} ({detailed_results['precision']*100:.2f}%)\\n\")\n",
    "        f.write(f\"   • Recall (Binary):    {detailed_results['recall']:.4f} ({detailed_results['recall']*100:.2f}%)\\n\")\n",
    "        f.write(f\"   • ROC AUC:            {detailed_results['roc_auc']:.4f} ({detailed_results['roc_auc']*100:.2f}%)\\n\")\n",
    "        f.write(f\"   • Average Precision:  {detailed_results['average_precision']:.4f} ({detailed_results['average_precision']*100:.2f}%)\\n\\n\")\n",
    "        \n",
    "        # Add confusion matrix details\n",
    "        cm = detailed_results['confusion_matrix']\n",
    "        tn, fp, fn, tp = cm.ravel()\n",
    "        \n",
    "        f.write(\"🔢 CONFUSION MATRIX ANALYSIS:\\n\")\n",
    "        f.write(f\"   📊 Confusion Matrix:\\n\")\n",
    "        f.write(f\"      [[{tn:4d}, {fp:4d}]  <- [TN, FP]\\n\")\n",
    "        f.write(f\"       [{fn:4d}, {tp:4d}]] <- [FN, TP]\\n\\n\")\n",
    "        \n",
    "        f.write(f\"   📈 Performance Comparison:\\n\")\n",
    "        f.write(f\"      • Previous best (3 epochs): 97.92%\\n\")\n",
    "        f.write(f\"      • Current result (5 epochs): {detailed_results['f1_score']*100:.2f}%\\n\")\n",
    "        f.write(f\"      • Improvement: {improvement*100:+.2f}%\\n\")\n",
    "        f.write(f\"      • Status: {performance_status}\\n\")\n",
    "    \n",
    "    print(f\"📝 Detailed results saved to: {results_file}\")\n",
    "    \n",
    "    # Save metrics as CSV for further analysis\n",
    "    csv_file = os.path.join(output_dir, \"stella_qlora_5_epochs_metrics.csv\")\n",
    "    metrics_df = pd.DataFrame([{\n",
    "        'Model': \"Stella_QLoRA_5_epochs\",\n",
    "        'Accuracy': detailed_results['accuracy'],\n",
    "        'F1_Score': detailed_results['f1_score'],\n",
    "        'Precision': detailed_results['precision'],\n",
    "        'Recall': detailed_results['recall'],\n",
    "        'ROC_AUC': detailed_results['roc_auc'],\n",
    "        'Average_Precision': detailed_results['average_precision'],\n",
    "        'Specificity': detailed_results['specificity'],\n",
    "        'Sensitivity': detailed_results['sensitivity'],\n",
    "        'True_Negatives': tn,\n",
    "        'False_Positives': fp,\n",
    "        'False_Negatives': fn,\n",
    "        'True_Positives': tp,\n",
    "        'Improvement_vs_3_epochs': improvement*100\n",
    "    }])\n",
    "    \n",
    "    metrics_df.to_csv(csv_file, index=False)\n",
    "    print(f\"📊 Metrics CSV saved to: {csv_file}\")\n",
    "    \n",
    "    # Display the metrics dataframe\n",
    "    print(\"\\n📊 METRICS SUMMARY TABLE:\")\n",
    "    print(metrics_df.to_string(index=False))\n",
    "    \n",
    "else:\n",
    "    print(\"❌ Cannot save results - training not completed!\")"
   ]
  },
  {
   "cell_type": "markdown",
   "id": "8394467d",
   "metadata": {},
   "source": [
    "## 💾 Save Final Model"
   ]
  },
  {
   "cell_type": "code",
   "execution_count": null,
   "id": "d215eb13",
   "metadata": {},
   "outputs": [],
   "source": [
    "# Save final model\n",
    "if training_completed and trainer is not None:\n",
    "    print(f\"💾 Saving final model to: {OUTPUT_DIR}\")\n",
    "    trainer.save_model()\n",
    "    tokenizer.save_pretrained(OUTPUT_DIR)\n",
    "    print(\"✅ Final model saved successfully!\")\n",
    "else:\n",
    "    print(\"❌ Cannot save model - training not completed or trainer not available!\")"
   ]
  },
  {
   "cell_type": "markdown",
   "id": "13941209",
   "metadata": {},
   "source": [
    "## 🎉 Training Completion Summary"
   ]
  },
  {
   "cell_type": "code",
   "execution_count": null,
   "id": "8bb39043",
   "metadata": {},
   "outputs": [],
   "source": [
    "# Final completion summary\n",
    "print(\"🎉 STELLA QLORA TRAINING RESUME COMPLETED!\")\n",
    "print(\"=\" * 60)\n",
    "\n",
    "if training_completed:\n",
    "    print(\"✅ TRAINING STATUS: SUCCESSFUL\")\n",
    "    print(\"📊 COMPREHENSIVE EVALUATION: COMPLETED\")\n",
    "    print(\"💾 MODEL SAVED: YES\")\n",
    "    print(\"📈 VISUALIZATIONS: GENERATED\")\n",
    "    print(\"📝 REPORTS: SAVED\")\n",
    "    \n",
    "    print(\"\\n🏆 KEY ACHIEVEMENTS:\")\n",
    "    print(f\"   🎯 Extended training from 3 to 5 epochs\")\n",
    "    print(f\"   📊 Final F1-Score: {f1:.4f} ({f1*100:.2f}%)\")\n",
    "    print(f\"   📈 Performance vs 3 epochs: {improvement*100:+.2f}%\")\n",
    "    print(f\"   🔄 Status: {performance_status}\")\n",
    "    \n",
    "else:\n",
    "    print(\"❌ TRAINING STATUS: FAILED\")\n",
    "    print(\"🔧 Please check the error messages above and retry\")\n",
    "\n",
    "print(\"\\n📝 NEXT STEPS:\")\n",
    "print(\"   1. 📊 Review comprehensive evaluation results and visualizations\")\n",
    "print(\"   2. 📈 Compare 5-epoch vs 3-epoch performance metrics\")\n",
    "print(\"   3. 🔄 Update model documentation with new results\")\n",
    "print(\"   4. 📁 Archive outputs folder with all metrics and plots\")\n",
    "print(\"   5. 🎯 Consider ensemble methods or further fine-tuning if needed\")\n",
    "print(\"   6. 🚀 Deploy best performing model for production use\")\n",
    "\n",
    "print(\"\\n\" + \"=\" * 60)\n",
    "print(\"📚 COMPREHENSIVE TRAINING AND EVALUATION COMPLETE! 🎉\")"
   ]
  }
 ],
 "metadata": {
  "kernelspec": {
   "display_name": ".venv",
   "language": "python",
   "name": "python3"
  },
  "language_info": {
   "codemirror_mode": {
    "name": "ipython",
    "version": 3
   },
   "file_extension": ".py",
   "mimetype": "text/x-python",
   "name": "python",
   "nbconvert_exporter": "python",
   "pygments_lexer": "ipython3",
   "version": "3.13.3"
  }
 },
 "nbformat": 4,
 "nbformat_minor": 5
}
