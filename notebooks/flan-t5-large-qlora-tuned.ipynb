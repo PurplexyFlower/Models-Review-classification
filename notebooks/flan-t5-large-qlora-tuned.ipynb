{
 "cells": [
  {
   "cell_type": "markdown",
   "id": "intro-markdown",
   "metadata": {},
   "source": [
    "# Fine-Tuning `google/flan-t5-large` with QLoRA\n",
    "\n",
    "This notebook demonstrates how to fine-tune the `google/flan-t5-large` (770M parameters) model on a custom classification task. It is specifically optimized for consumer GPUs with limited VRAM (e.g., 6-8GB) by using the **QLoRA (Quantized Low-Rank Adaptation)** technique.\n"
   ]
  },
  {
   "cell_type": "markdown",
   "id": "block-1-markdown",
   "metadata": {},
   "source": [
    "## 1. Environment Setup"
   ]
  },
  {
   "cell_type": "code",
   "execution_count": 1,
   "id": "block-1-code",
   "metadata": {},
   "outputs": [],
   "source": [
    "!pip install -q --upgrade transformers accelerate peft bitsandbytes scikit-learn pandas matplotlib seaborn datasets"
   ]
  },
  {
   "cell_type": "code",
   "execution_count": 2,
   "id": "block-1.5-code",
   "metadata": {},
   "outputs": [
    {
     "name": "stderr",
     "output_type": "stream",
     "text": [
      "c:\\Users\\zrhrissi\\Documents\\Phd models\\.venv\\Lib\\site-packages\\tqdm\\auto.py:21: TqdmWarning: IProgress not found. Please update jupyter and ipywidgets. See https://ipywidgets.readthedocs.io/en/stable/user_install.html\n",
      "  from .autonotebook import tqdm as notebook_tqdm\n"
     ]
    }
   ],
   "source": [
    "import os\n",
    "import sys\n",
    "import torch\n",
    "import pandas as pd\n",
    "import numpy as np\n",
    "import seaborn as sns\n",
    "import matplotlib.pyplot as plt\n",
    "\n",
    "from sklearn.model_selection import train_test_split\n",
    "from sklearn.metrics import (\n",
    "    accuracy_score,\n",
    "    classification_report,\n",
    "    confusion_matrix,\n",
    "    precision_recall_fscore_support,\n",
    ")\n",
    "from datasets import Dataset\n",
    "from transformers import (\n",
    "    AutoTokenizer,\n",
    "    AutoModel, # We need the generic AutoModel for our custom class\n",
    "    Trainer,\n",
    "    TrainingArguments,\n",
    "    BitsAndBytesConfig,\n",
    ")\n",
    "from peft import get_peft_model, LoraConfig, TaskType, prepare_model_for_kbit_training\n",
    "from torch.nn import CrossEntropyLoss\n",
    "from transformers.modeling_outputs import SequenceClassifierOutput"
   ]
  },
  {
   "cell_type": "markdown",
   "id": "block-2-markdown",
   "metadata": {},
   "source": [
    "## 2. Configuration"
   ]
  },
  {
   "cell_type": "code",
   "execution_count": 3,
   "id": "block-2-code",
   "metadata": {},
   "outputs": [],
   "source": [
    "MODEL_NAME = \"google/flan-t5-large\"\n",
    "DATASET_PATH = \"dataset/cleaned_dataset.csv\"\n",
    "OUTPUT_DIR = \"./flan-t5-large-qlora-tuned\"\n",
    "\n",
    "LORA_R = 16\n",
    "LORA_ALPHA = 32\n",
    "LORA_DROPOUT = 0.05\n",
    "LORA_TARGET_MODULES = [\"q\", \"k\", \"v\", \"o\"]\n",
    "\n",
    "BATCH_SIZE = 2\n",
    "GRADIENT_ACCUMULATION_STEPS = 8\n",
    "LEARNING_RATE = 2e-4\n",
    "NUM_EPOCHS = 5\n",
    "MAX_SEQ_LENGTH = 512"
   ]
  },
  {
   "cell_type": "markdown",
   "id": "block-3-markdown",
   "metadata": {},
   "source": [
    "## 3. Custom Model Definition & Helper Functions\n",
    "\n",
    "To resolve incompatibilities, we create a custom model class. This ensures the base T5 model is correctly quantized **before** we add a classification head and apply LoRA adapters."
   ]
  },
  {
   "cell_type": "code",
   "execution_count": 4,
   "id": "block-3-code",
   "metadata": {},
   "outputs": [],
   "source": [
    "class T5ForSequenceClassification(torch.nn.Module):\n",
    "    def __init__(self, model_name, num_labels, quantization_config):\n",
    "        super(T5ForSequenceClassification, self).__init__()\n",
    "        self.num_labels = num_labels\n",
    "        \n",
    "        # Load the base T5 model using AutoModel\n",
    "        self.t5 = AutoModel.from_pretrained(\n",
    "            model_name,\n",
    "            quantization_config=quantization_config,\n",
    "            device_map=\"auto\"\n",
    "        )\n",
    "        self.config = self.t5.config\n",
    "        \n",
    "        # Define the classification head\n",
    "        self.dropout = torch.nn.Dropout(0.1)\n",
    "        self.classifier = torch.nn.Linear(self.config.hidden_size, num_labels)\n",
    "\n",
    "    def forward(self, input_ids=None, attention_mask=None, labels=None, **kwargs):\n",
    "        # For T5, we use the encoder's output for classification tasks\n",
    "        encoder_outputs = self.t5.encoder(\n",
    "            input_ids=input_ids,\n",
    "            attention_mask=attention_mask\n",
    "        )\n",
    "        \n",
    "        # Perform mean pooling on the encoder's last hidden state\n",
    "        last_hidden_state = encoder_outputs.last_hidden_state\n",
    "        pooled_output = last_hidden_state.mean(dim=1)\n",
    "            \n",
    "        # Pass the pooled output through the classification head\n",
    "        logits = self.classifier(self.dropout(pooled_output))\n",
    "        \n",
    "        loss = None\n",
    "        if labels is not None:\n",
    "            loss_fct = CrossEntropyLoss()\n",
    "            loss = loss_fct(logits.view(-1, self.num_labels), labels.view(-1))\n",
    "            \n",
    "        return SequenceClassifierOutput(loss=loss, logits=logits)\n",
    "\n",
    "def setup_environment():\n",
    "    if not torch.cuda.is_available():\n",
    "        print(\"❌ No GPU detected. QLoRA requires a GPU. Exiting.\")\n",
    "        sys.exit(1)\n",
    "    device = torch.device(\"cuda\")\n",
    "    has_bf16_support = torch.cuda.is_bf16_supported()\n",
    "    print(f\"✅ GPU detected: {torch.cuda.get_device_name(0)}\")\n",
    "    print(f\"✅ BFloat16 Support: {'Yes' if has_bf16_support else 'No (will use Float16)'}\")\n",
    "    torch.cuda.empty_cache()\n",
    "    return device, has_bf16_support\n",
    "\n",
    "def load_and_prepare_data(dataset_path):\n",
    "    print(f\"\\n📂 Loading dataset from '{dataset_path}'...\")\n",
    "    try:\n",
    "        df = pd.read_csv(dataset_path)\n",
    "    except FileNotFoundError:\n",
    "        print(f\"❌ Dataset not found! Please check the path: {dataset_path}\")\n",
    "        return None, None, None\n",
    "    df_clean = df[['text', 'label']].copy().dropna()\n",
    "    train_val_df, test_df = train_test_split(df_clean, test_size=0.2, random_state=42, stratify=df_clean['label'])\n",
    "    train_df, val_df = train_test_split(train_val_df, test_size=0.1, random_state=42, stratify=train_val_df['label'])\n",
    "    print(\"📈 Data splits created:\")\n",
    "    print(f\"   - Training:   {len(train_df)} samples\")\n",
    "    print(f\"   - Validation: {len(val_df)} samples\")\n",
    "    print(f\"   - Test:       {len(test_df)} samples\")\n",
    "    return Dataset.from_pandas(train_df), Dataset.from_pandas(val_df), Dataset.from_pandas(test_df)\n",
    "\n",
    "def compute_metrics(eval_pred):\n",
    "    logits, labels = eval_pred\n",
    "    preds = np.argmax(logits, axis=-1)\n",
    "    precision, recall, f1, _ = precision_recall_fscore_support(labels, preds, average='binary')\n",
    "    acc = accuracy_score(labels, preds)\n",
    "    return {'accuracy': acc, 'f1': f1, 'precision': precision, 'recall': recall}"
   ]
  },
  {
   "cell_type": "markdown",
   "id": "block-4-markdown",
   "metadata": {},
   "source": [
    "## 4. Model Preparation and QLoRA Configuration"
   ]
  },
  {
   "cell_type": "code",
   "execution_count": 5,
   "id": "block-4-code",
   "metadata": {},
   "outputs": [
    {
     "name": "stdout",
     "output_type": "stream",
     "text": [
      "✅ GPU detected: NVIDIA GeForce RTX 4050 Laptop GPU\n",
      "✅ BFloat16 Support: Yes\n",
      "\n",
      "⚙️  Configuring QLoRA for 4-bit quantization...\n",
      "🚀 Loading base model 'google/flan-t5-large' with our custom class...\n",
      "✨ Applying LoRA adapters to the model...\n",
      "\n",
      "🔥 LoRA Model Configuration:\n",
      "trainable params: 9,439,234 || all params: 759,692,292 || trainable%: 1.2425\n"
     ]
    }
   ],
   "source": [
    "device, has_bf16_support = setup_environment()\n",
    "\n",
    "print(\"\\n⚙️  Configuring QLoRA for 4-bit quantization...\")\n",
    "compute_dtype = torch.bfloat16 if has_bf16_support else torch.float16\n",
    "quantization_config = BitsAndBytesConfig(\n",
    "    load_in_4bit=True,\n",
    "    bnb_4bit_quant_type=\"nf4\",\n",
    "    bnb_4bit_compute_dtype=compute_dtype,\n",
    "    bnb_4bit_use_double_quant=True,\n",
    ")\n",
    "\n",
    "print(f\"🚀 Loading base model '{MODEL_NAME}' with our custom class...\")\n",
    "model = T5ForSequenceClassification(\n",
    "    MODEL_NAME,\n",
    "    num_labels=2,\n",
    "    quantization_config=quantization_config\n",
    ")\n",
    "tokenizer = AutoTokenizer.from_pretrained(MODEL_NAME)\n",
    "\n",
    "print(\"✨ Applying LoRA adapters to the model...\")\n",
    "model = prepare_model_for_kbit_training(model)\n",
    "peft_config = LoraConfig(\n",
    "    task_type=TaskType.SEQ_CLS, # We now use SEQ_CLS as our model is a classification model\n",
    "    r=LORA_R,\n",
    "    lora_alpha=LORA_ALPHA,\n",
    "    lora_dropout=LORA_DROPOUT,\n",
    "    target_modules=LORA_TARGET_MODULES,\n",
    ")\n",
    "model = get_peft_model(model, peft_config)\n",
    "\n",
    "print(\"\\n🔥 LoRA Model Configuration:\")\n",
    "model.print_trainable_parameters()"
   ]
  },
  {
   "cell_type": "markdown",
   "id": "block-5-markdown",
   "metadata": {},
   "source": [
    "## 5. Training\n",
    "\n",
    "With the model prepared, we now load and tokenize the datasets and configure the `Trainer`. The `trainer.train()` command will start the fine-tuning process."
   ]
  },
  {
   "cell_type": "code",
   "execution_count": 7,
   "id": "block-5-code",
   "metadata": {},
   "outputs": [
    {
     "name": "stdout",
     "output_type": "stream",
     "text": [
      "\n",
      "📂 Loading dataset from 'dataset/cleaned_dataset.csv'...\n",
      "📈 Data splits created:\n",
      "   - Training:   29110 samples\n",
      "   - Validation: 3235 samples\n",
      "   - Test:       8087 samples\n",
      "\n",
      "... Tokenizing all datasets ...\n"
     ]
    },
    {
     "name": "stderr",
     "output_type": "stream",
     "text": [
      "Map: 100%|██████████| 29110/29110 [00:03<00:00, 8106.67 examples/s]\n",
      "Map: 100%|██████████| 3235/3235 [00:00<00:00, 7889.24 examples/s]\n",
      "Map: 100%|██████████| 8087/8087 [00:00<00:00, 8286.28 examples/s]\n"
     ]
    },
    {
     "name": "stdout",
     "output_type": "stream",
     "text": [
      "📋 Setting up Hugging Face Trainer...\n",
      "\n",
      "🚀 Starting QLoRA fine-tuning...\n"
     ]
    },
    {
     "data": {
      "text/html": [
       "\n",
       "    <div>\n",
       "      \n",
       "      <progress value='9100' max='9100' style='width:300px; height:20px; vertical-align: middle;'></progress>\n",
       "      [9100/9100 10:00:20, Epoch 5/5]\n",
       "    </div>\n",
       "    <table border=\"1\" class=\"dataframe\">\n",
       "  <thead>\n",
       " <tr style=\"text-align: left;\">\n",
       "      <th>Epoch</th>\n",
       "      <th>Training Loss</th>\n",
       "      <th>Validation Loss</th>\n",
       "      <th>Accuracy</th>\n",
       "      <th>F1</th>\n",
       "      <th>Precision</th>\n",
       "      <th>Recall</th>\n",
       "    </tr>\n",
       "  </thead>\n",
       "  <tbody>\n",
       "    <tr>\n",
       "      <td>1</td>\n",
       "      <td>0.882000</td>\n",
       "      <td>0.136787</td>\n",
       "      <td>0.963524</td>\n",
       "      <td>0.964522</td>\n",
       "      <td>0.939110</td>\n",
       "      <td>0.991347</td>\n",
       "    </tr>\n",
       "    <tr>\n",
       "      <td>2</td>\n",
       "      <td>0.677500</td>\n",
       "      <td>0.158447</td>\n",
       "      <td>0.964142</td>\n",
       "      <td>0.965228</td>\n",
       "      <td>0.937136</td>\n",
       "      <td>0.995056</td>\n",
       "    </tr>\n",
       "    <tr>\n",
       "      <td>3</td>\n",
       "      <td>0.324200</td>\n",
       "      <td>0.159893</td>\n",
       "      <td>0.969706</td>\n",
       "      <td>0.970339</td>\n",
       "      <td>0.950771</td>\n",
       "      <td>0.990729</td>\n",
       "    </tr>\n",
       "    <tr>\n",
       "      <td>4</td>\n",
       "      <td>0.323000</td>\n",
       "      <td>0.199106</td>\n",
       "      <td>0.965997</td>\n",
       "      <td>0.966867</td>\n",
       "      <td>0.943008</td>\n",
       "      <td>0.991965</td>\n",
       "    </tr>\n",
       "    <tr>\n",
       "      <td>5</td>\n",
       "      <td>0.036100</td>\n",
       "      <td>0.197606</td>\n",
       "      <td>0.966615</td>\n",
       "      <td>0.967489</td>\n",
       "      <td>0.943075</td>\n",
       "      <td>0.993201</td>\n",
       "    </tr>\n",
       "  </tbody>\n",
       "</table><p>"
      ],
      "text/plain": [
       "<IPython.core.display.HTML object>"
      ]
     },
     "metadata": {},
     "output_type": "display_data"
    },
    {
     "name": "stdout",
     "output_type": "stream",
     "text": [
      "✅ Fine-tuning complete!\n"
     ]
    }
   ],
   "source": [
    "train_dataset, val_dataset, test_dataset = load_and_prepare_data(DATASET_PATH)\n",
    "\n",
    "def tokenize_function(examples):\n",
    "    return tokenizer(examples[\"text\"], padding=\"max_length\", truncation=True, max_length=MAX_SEQ_LENGTH)\n",
    "\n",
    "if train_dataset:\n",
    "    print(\"\\n... Tokenizing all datasets ...\")\n",
    "    tokenized_train = train_dataset.map(tokenize_function, batched=True)\n",
    "    tokenized_val = val_dataset.map(tokenize_function, batched=True)\n",
    "    tokenized_test = test_dataset.map(tokenize_function, batched=True)\n",
    "\n",
    "    print(\"📋 Setting up Hugging Face Trainer...\")\n",
    "    training_args = TrainingArguments(\n",
    "        output_dir=OUTPUT_DIR,\n",
    "        num_train_epochs=NUM_EPOCHS,\n",
    "        per_device_train_batch_size=BATCH_SIZE,\n",
    "        gradient_accumulation_steps=GRADIENT_ACCUMULATION_STEPS,\n",
    "        learning_rate=LEARNING_RATE,\n",
    "        lr_scheduler_type=\"cosine\",\n",
    "        optim=\"paged_adamw_8bit\",\n",
    "        fp16=not has_bf16_support,\n",
    "        bf16=has_bf16_support,\n",
    "        logging_dir=f\"{OUTPUT_DIR}/logs\",\n",
    "        logging_steps=25,\n",
    "        eval_strategy=\"epoch\",\n",
    "        save_strategy=\"epoch\",\n",
    "        load_best_model_at_end=True,\n",
    "        metric_for_best_model=\"f1\",\n",
    "        report_to=\"none\",\n",
    "        remove_unused_columns=True,\n",
    "    )\n",
    "\n",
    "    trainer = Trainer(\n",
    "        model=model,\n",
    "        args=training_args,\n",
    "        train_dataset=tokenized_train,\n",
    "        eval_dataset=tokenized_val,\n",
    "        compute_metrics=compute_metrics,\n",
    "    )\n",
    "\n",
    "    print(\"\\n🚀 Starting QLoRA fine-tuning...\")\n",
    "    trainer.train()\n",
    "    print(\"✅ Fine-tuning complete!\")"
   ]
  },
  {
   "cell_type": "markdown",
   "id": "block-6-markdown",
   "metadata": {},
   "source": [
    "## 6. Final Evaluation\n",
    "\n",
    "After training, we evaluate the model on the unseen test set to measure its performance."
   ]
  },
  {
   "cell_type": "code",
   "execution_count": 8,
   "id": "block-6-code",
   "metadata": {},
   "outputs": [
    {
     "name": "stdout",
     "output_type": "stream",
     "text": [
      "\n",
      "🧪 Evaluating final model on the unseen test set...\n"
     ]
    },
    {
     "data": {
      "text/html": [],
      "text/plain": [
       "<IPython.core.display.HTML object>"
      ]
     },
     "metadata": {},
     "output_type": "display_data"
    },
    {
     "name": "stdout",
     "output_type": "stream",
     "text": [
      "\n",
      "==================================================\n",
      "📊 Final Classification Report:\n",
      "==================================================\n",
      "              precision    recall  f1-score   support\n",
      "\n",
      " Real Review       0.99      0.95      0.97      4044\n",
      " Fake Review       0.95      0.99      0.97      4043\n",
      "\n",
      "    accuracy                           0.97      8087\n",
      "   macro avg       0.97      0.97      0.97      8087\n",
      "weighted avg       0.97      0.97      0.97      8087\n",
      "\n",
      "\n",
      "==================================================\n",
      "📈 Confusion Matrix:\n",
      "==================================================\n"
     ]
    },
    {
     "data": {
      "image/png": "[encoded data removed]",
      "text/plain": [
       "<Figure size 800x600 with 2 Axes>"
      ]
     },
     "metadata": {},
     "output_type": "display_data"
    }
   ],
   "source": [
    "print(\"\\n🧪 Evaluating final model on the unseen test set...\")\n",
    "predictions = trainer.predict(tokenized_test)\n",
    "y_pred = np.argmax(predictions.predictions, axis=1)\n",
    "y_true = predictions.label_ids\n",
    "\n",
    "print(\"\\n\" + \"=\"*50)\n",
    "print(\"📊 Final Classification Report:\")\n",
    "print(\"=\"*50)\n",
    "print(classification_report(y_true, y_pred, target_names=[\"Real Review\", \"Fake Review\"]))\n",
    "\n",
    "print(\"\\n\" + \"=\"*50)\n",
    "print(\"📈 Confusion Matrix:\")\n",
    "print(\"=\"*50)\n",
    "cm = confusion_matrix(y_true, y_pred)\n",
    "plt.figure(figsize=(8, 6))\n",
    "sns.heatmap(cm, annot=True, fmt='d', cmap='Blues', xticklabels=[\"Real Review\", \"Fake Review\"], yticklabels=[\"Real Review\", \"Fake Review\"])\n",
    "plt.title(f'Confusion Matrix - {MODEL_NAME} on Test Set')\n",
    "plt.xlabel('Predicted Label')\n",
    "plt.ylabel('True Label')\n",
    "plt.show()"
   ]
  },
  {
   "cell_type": "code",
   "execution_count": 1,
   "id": "b050a086",
   "metadata": {},
   "outputs": [
    {
     "name": "stdout",
     "output_type": "stream",
     "text": [
      "--- Full Classification Report ---\n"
     ]
    },
    {
     "ename": "NameError",
     "evalue": "name 'y_true' is not defined",
     "output_type": "error",
     "traceback": [
      "\u001b[31m---------------------------------------------------------------------------\u001b[39m",
      "\u001b[31mNameError\u001b[39m                                 Traceback (most recent call last)",
      "\u001b[36mCell\u001b[39m\u001b[36m \u001b[39m\u001b[32mIn[1]\u001b[39m\u001b[32m, line 6\u001b[39m\n\u001b[32m      4\u001b[39m \u001b[38;5;66;03m# y_true and y_pred should already be defined from previous cells\u001b[39;00m\n\u001b[32m      5\u001b[39m \u001b[38;5;28mprint\u001b[39m(\u001b[33m'\u001b[39m\u001b[33m--- Full Classification Report ---\u001b[39m\u001b[33m'\u001b[39m)\n\u001b[32m----> \u001b[39m\u001b[32m6\u001b[39m \u001b[38;5;28mprint\u001b[39m(classification_report(\u001b[43my_true\u001b[49m, y_pred, target_names=[\u001b[33m\"\u001b[39m\u001b[33mReal Review\u001b[39m\u001b[33m\"\u001b[39m, \u001b[33m\"\u001b[39m\u001b[33mFake Review\u001b[39m\u001b[33m\"\u001b[39m], digits=\u001b[32m4\u001b[39m))\n\u001b[32m      8\u001b[39m \u001b[38;5;28mprint\u001b[39m(\u001b[33m'\u001b[39m\u001b[33m--- Per-class Precision, Recall, F1, Support ---\u001b[39m\u001b[33m'\u001b[39m)\n\u001b[32m      9\u001b[39m precision, recall, f1, support = precision_recall_fscore_support(y_true, y_pred)\n",
      "\u001b[31mNameError\u001b[39m: name 'y_true' is not defined"
     ]
    }
   ],
   "source": [
    "# Full metrics for test data\n",
    "from sklearn.metrics import classification_report, precision_recall_fscore_support, accuracy_score, confusion_matrix\n",
    "\n",
    "# y_true and y_pred should already be defined from previous cells\n",
    "print('--- Full Classification Report ---')\n",
    "print(classification_report(y_true, y_pred, target_names=[\"Real Review\", \"Fake Review\"], digits=4))\n",
    "\n",
    "print('--- Per-class Precision, Recall, F1, Support ---')\n",
    "precision, recall, f1, support = precision_recall_fscore_support(y_true, y_pred)\n",
    "for i, label in enumerate([\"Real Review\", \"Fake Review\"]):\n",
    "    print(f\"{label}:\")\n",
    "    print(f\"  Precision: {precision[i]:.4f}\")\n",
    "    print(f\"  Recall:    {recall[i]:.4f}\")\n",
    "    print(f\"  F1-score:  {f1[i]:.4f}\")\n",
    "    print(f\"  Support:   {support[i]}\")\n",
    "\n",
    "print('--- Overall Metrics ---')\n",
    "accuracy = accuracy_score(y_true, y_pred)\n",
    "weighted_precision, weighted_recall, weighted_f1, _ = precision_recall_fscore_support(y_true, y_pred, average='weighted')\n",
    "print(f\"Accuracy: {accuracy:.4f}\")\n",
    "print(f\"Weighted Precision: {weighted_precision:.4f}\")\n",
    "print(f\"Weighted Recall:    {weighted_recall:.4f}\")\n",
    "print(f\"Weighted F1-score:  {weighted_f1:.4f}\")"
   ]
  }
 ],
 "metadata": {
  "kernelspec": {
   "display_name": ".venv",
   "language": "python",
   "name": "python3"
  },
  "language_info": {
   "codemirror_mode": {
    "name": "ipython",
    "version": 3
   },
   "file_extension": ".py",
   "mimetype": "text/x-python",
   "name": "python",
   "nbconvert_exporter": "python",
   "pygments_lexer": "ipython3",
   "version": "3.13.3"
  }
 },
 "nbformat": 4,
 "nbformat_minor": 5
}
